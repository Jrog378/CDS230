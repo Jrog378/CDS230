{
 "cells": [
  {
   "cell_type": "markdown",
   "source": [
    "# Quiz 5\n",
    "- Justin Rogers\n",
    "- G01305989"
   ],
   "metadata": {
    "collapsed": false
   }
  },
  {
   "cell_type": "code",
   "execution_count": null,
   "outputs": [],
   "source": [
    "import numpy\n",
    "x, y = 0,0\n",
    "for x in range(10000):\n",
    "    dice = numpy.random.random(2)\n",
    "    dice *= 6\n",
    "    dice = numpy.ceil(dice)\n",
    "    if dice.sum() == 2:\n",
    "        x += 1\n",
    "    elif dice.sum() == 7:\n",
    "        y += 1\n",
    "print(x, y)\n"
   ],
   "metadata": {
    "collapsed": false
   }
  }
 ],
 "metadata": {
  "kernelspec": {
   "display_name": "Python 3",
   "language": "python",
   "name": "python3"
  },
  "language_info": {
   "codemirror_mode": {
    "name": "ipython",
    "version": 2
   },
   "file_extension": ".py",
   "mimetype": "text/x-python",
   "name": "python",
   "nbconvert_exporter": "python",
   "pygments_lexer": "ipython2",
   "version": "2.7.6"
  }
 },
 "nbformat": 4,
 "nbformat_minor": 0
}
