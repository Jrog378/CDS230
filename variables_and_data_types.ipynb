{
 "cells": [
  {
   "cell_type": "markdown",
   "metadata": {},
   "source": [
    "# Agenda\n",
    "\n",
    "* Data types\n",
    "    * Expressions, assignments, variables\n",
    "    * Objects\n",
    "    * Basic data types\n",
    "        * Type conversions\n",
    "        * Special values: None, Inf, NaN\n",
    "    * Formatting output\n",
    "* Simple models"
   ]
  },
  {
   "cell_type": "markdown",
   "metadata": {},
   "source": [
    "# Python Building Blocks"
   ]
  },
  {
   "cell_type": "markdown",
   "metadata": {
    "tags": []
   },
   "source": [
    "## Expressions\n",
    "\n",
    "Are values or combinations of values and operators that produce other values. "
   ]
  },
  {
   "cell_type": "code",
   "execution_count": 5,
   "metadata": {
    "pycharm": {
     "is_executing": true
    },
    "ExecuteTime": {
     "end_time": "2024-09-04T15:15:39.604458Z",
     "start_time": "2024-09-04T15:15:38.144477Z"
    }
   },
   "outputs": [
    {
     "data": {
      "text/plain": "4"
     },
     "execution_count": 5,
     "metadata": {},
     "output_type": "execute_result"
    }
   ],
   "source": [
    "2 + 2"
   ]
  },
  {
   "cell_type": "code",
   "execution_count": 6,
   "metadata": {
    "pycharm": {
     "is_executing": true
    },
    "ExecuteTime": {
     "end_time": "2024-09-04T15:15:40.222430Z",
     "start_time": "2024-09-04T15:15:38.148709Z"
    }
   },
   "outputs": [
    {
     "data": {
      "text/plain": "34.64575131106459"
     },
     "execution_count": 6,
     "metadata": {},
     "output_type": "execute_result"
    }
   ],
   "source": [
    "2*(3**2) + (4*5) - 6 + (7**(0.5))   # PEMDAS"
   ]
  },
  {
   "cell_type": "markdown",
   "metadata": {
    "tags": [],
    "toc-hr-collapsed": true
   },
   "source": [
    "## Variables and assignment statement\n",
    "\n",
    "Are symbols used to __name__ and save expressions. "
   ]
  },
  {
   "cell_type": "code",
   "execution_count": 7,
   "metadata": {
    "tags": [],
    "pycharm": {
     "is_executing": true
    },
    "ExecuteTime": {
     "end_time": "2024-09-04T15:15:40.284828Z",
     "start_time": "2024-09-04T15:15:38.184055Z"
    }
   },
   "outputs": [],
   "source": [
    "r = 1\n",
    "speed_of_light = 300_000_000"
   ]
  },
  {
   "cell_type": "code",
   "execution_count": 8,
   "metadata": {
    "tags": [],
    "ExecuteTime": {
     "end_time": "2024-09-04T15:15:40.285236Z",
     "start_time": "2024-09-04T15:15:38.188796Z"
    }
   },
   "outputs": [
    {
     "name": "stdout",
     "output_type": "stream",
     "text": [
      "3.141592653589793\n"
     ]
    }
   ],
   "source": [
    "# Example: Compute area of a unit circle\n",
    "import math\n",
    "\n",
    "area = math.pi*r**2\n",
    "\n",
    "print(area)"
   ]
  },
  {
   "cell_type": "markdown",
   "metadata": {
    "tags": []
   },
   "source": [
    "---\n",
    "__=__ means __assignment__ - not __equals__ !"
   ]
  },
  {
   "cell_type": "markdown",
   "metadata": {
    "tags": []
   },
   "source": [
    "\n",
    "```\n",
    "In math:\n",
    "\n",
    "x = 1\n",
    "\n",
    "is an equation that says that x is equal to 1\n",
    "\n",
    "Furthermore, \n",
    "\n",
    "x = x + 1\n",
    "\n",
    "is NOT an equation and it IS NOT valid math syntax\n",
    "```"
   ]
  },
  {
   "cell_type": "markdown",
   "metadata": {
    "tags": []
   },
   "source": [
    "```\n",
    "In Python\n",
    "\n",
    "x = 1\n",
    "\n",
    "is an assignment statement that says that x is assined the value of 1\n",
    "\n",
    "Similarly, \n",
    "\n",
    "x = x + 1\n",
    "\n",
    "is NOT an equation but it IS valid Python syntax\n",
    "\n",
    "In Python the equation means \"assign x + 1 to x\", resulting in\n",
    "\n",
    "x = 2\n",
    "\n",
    "```"
   ]
  },
  {
   "cell_type": "markdown",
   "metadata": {
    "tags": []
   },
   "source": [
    "#### The += notation\n",
    "\n",
    "```\n",
    "x = x + c\n",
    "\n",
    "x += c\n",
    "```\n",
    "\n"
   ]
  },
  {
   "cell_type": "code",
   "execution_count": 9,
   "metadata": {
    "ExecuteTime": {
     "end_time": "2024-09-04T15:15:40.289497Z",
     "start_time": "2024-09-04T15:15:38.254923Z"
    }
   },
   "outputs": [
    {
     "name": "stdout",
     "output_type": "stream",
     "text": [
      "9\n"
     ]
    }
   ],
   "source": [
    "x = 5\n",
    "\n",
    "x += 4\n",
    "\n",
    "print(x)"
   ]
  },
  {
   "cell_type": "markdown",
   "metadata": {
    "tags": []
   },
   "source": [
    "Can do the same with -, *, /"
   ]
  },
  {
   "cell_type": "code",
   "execution_count": 10,
   "metadata": {
    "tags": [],
    "ExecuteTime": {
     "end_time": "2024-09-04T15:15:40.307161Z",
     "start_time": "2024-09-04T15:15:38.271337Z"
    }
   },
   "outputs": [
    {
     "name": "stdout",
     "output_type": "stream",
     "text": [
      "9\n"
     ]
    }
   ],
   "source": [
    "y = 10\n",
    "y = y - 1\n",
    "print(y)"
   ]
  },
  {
   "cell_type": "code",
   "execution_count": 11,
   "metadata": {
    "ExecuteTime": {
     "end_time": "2024-09-04T15:15:40.307433Z",
     "start_time": "2024-09-04T15:15:38.274603Z"
    }
   },
   "outputs": [
    {
     "name": "stdout",
     "output_type": "stream",
     "text": [
      "8\n"
     ]
    }
   ],
   "source": [
    "y -= 1\n",
    "print(y)"
   ]
  },
  {
   "cell_type": "code",
   "execution_count": 12,
   "metadata": {
    "tags": [],
    "ExecuteTime": {
     "end_time": "2024-09-04T15:15:40.307586Z",
     "start_time": "2024-09-04T15:15:38.277218Z"
    }
   },
   "outputs": [
    {
     "name": "stdout",
     "output_type": "stream",
     "text": [
      "15\n"
     ]
    }
   ],
   "source": [
    "a = 3\n",
    "a *=5\n",
    "print(a)"
   ]
  },
  {
   "cell_type": "markdown",
   "metadata": {},
   "source": [
    "#### Exercise\n",
    "Try some calculations with the other operators **, /, %, //"
   ]
  },
  {
   "cell_type": "markdown",
   "metadata": {
    "tags": []
   },
   "source": [
    "---\n",
    "## Variable names"
   ]
  },
  {
   "cell_type": "markdown",
   "metadata": {
    "tags": []
   },
   "source": [
    "Variables take names that consist of any combination of letters (upper and lowercase), the underscore and digits.\n",
    "\n",
    "```python\n",
    "y0 = 1\n",
    "x_1 = 3.\n",
    "kinetic_energy = 0.5   # note use of lowercase\n",
    "```\n",
    "\n",
    "Exceptions: \n",
    "* you cannot use [reserved keywords](https://docs.python.org/3.7/reference/lexical_analysis.html#keywords)\n",
    "* names cannot start with a digit\n",
    "\n"
   ]
  },
  {
   "cell_type": "code",
   "execution_count": 13,
   "metadata": {
    "ExecuteTime": {
     "end_time": "2024-09-04T15:15:40.337368Z",
     "start_time": "2024-09-04T15:15:38.332731Z"
    }
   },
   "outputs": [],
   "source": [
    "import keyword"
   ]
  },
  {
   "cell_type": "code",
   "execution_count": 14,
   "metadata": {
    "ExecuteTime": {
     "end_time": "2024-09-04T15:15:40.343438Z",
     "start_time": "2024-09-04T15:15:38.334709Z"
    }
   },
   "outputs": [
    {
     "data": {
      "text/plain": "['False',\n 'None',\n 'True',\n '__peg_parser__',\n 'and',\n 'as',\n 'assert',\n 'async',\n 'await',\n 'break',\n 'class',\n 'continue',\n 'def',\n 'del',\n 'elif',\n 'else',\n 'except',\n 'finally',\n 'for',\n 'from',\n 'global',\n 'if',\n 'import',\n 'in',\n 'is',\n 'lambda',\n 'nonlocal',\n 'not',\n 'or',\n 'pass',\n 'raise',\n 'return',\n 'try',\n 'while',\n 'with',\n 'yield']"
     },
     "execution_count": 14,
     "metadata": {},
     "output_type": "execute_result"
    }
   ],
   "source": [
    "keyword.kwlist"
   ]
  },
  {
   "cell_type": "code",
   "execution_count": 15,
   "metadata": {
    "ExecuteTime": {
     "end_time": "2024-09-04T15:15:40.344479Z",
     "start_time": "2024-09-04T15:15:38.338393Z"
    }
   },
   "outputs": [
    {
     "ename": "SyntaxError",
     "evalue": "invalid syntax (2107072908.py, line 1)",
     "output_type": "error",
     "traceback": [
      "\u001B[0;36m  Input \u001B[0;32mIn [15]\u001B[0;36m\u001B[0m\n\u001B[0;31m    import = 5\u001B[0m\n\u001B[0m           ^\u001B[0m\n\u001B[0;31mSyntaxError\u001B[0m\u001B[0;31m:\u001B[0m invalid syntax\n"
     ]
    }
   ],
   "source": [
    "import = 5"
   ]
  },
  {
   "cell_type": "code",
   "execution_count": null,
   "metadata": {
    "tags": [],
    "ExecuteTime": {
     "start_time": "2024-09-04T15:15:38.342111Z"
    }
   },
   "outputs": [],
   "source": [
    "e = 0.5"
   ]
  },
  {
   "cell_type": "code",
   "execution_count": null,
   "metadata": {
    "tags": [],
    "ExecuteTime": {
     "start_time": "2024-09-04T15:15:38.343653Z"
    }
   },
   "outputs": [],
   "source": [
    "var = 2 # cannot start variable name with a digit"
   ]
  },
  {
   "cell_type": "markdown",
   "metadata": {
    "tags": []
   },
   "source": [
    "Beware:\n",
    "* Python is a <span style='color:red'> case sensitive </span>  language\n",
    "\n",
    "```python\n",
    "num_students = 20\n",
    "Num_students = 20\n",
    "num_Students = 20\n",
    "Num_Students = 20\n",
    "NUM_students = 20\n",
    "```\n",
    "are alll different variables!"
   ]
  },
  {
   "cell_type": "markdown",
   "metadata": {
    "tags": []
   },
   "source": [
    "#### Always use good names for variables!\n",
    "\n",
    "```python\n",
    "c = 3e8              # bad name, too generic\n",
    "speed_of_light = 3e8 # better\n",
    "```"
   ]
  },
  {
   "cell_type": "markdown",
   "metadata": {
    "tags": []
   },
   "source": [
    "#### Code is meant to be readable!\n"
   ]
  },
  {
   "cell_type": "markdown",
   "metadata": {
    "tags": []
   },
   "source": [
    "One way to enhance the readability of code is to add comments. Text following the symbol # is not interpreted by Python. For example, one might write"
   ]
  },
  {
   "cell_type": "markdown",
   "metadata": {
    "jupyter": {
     "source_hidden": true
    },
    "tags": []
   },
   "source": [
    "bad"
   ]
  },
  {
   "cell_type": "markdown",
   "metadata": {
    "jupyter": {
     "source_hidden": true
    },
    "tags": []
   },
   "source": [
    "```python\n",
    "s = 1 \n",
    "r = 1\n",
    "a1 = pi*r**2\n",
    "a2 = s**2\n",
    "d = a1 - a2\n",
    "```"
   ]
  },
  {
   "cell_type": "markdown",
   "metadata": {
    "jupyter": {
     "source_hidden": true
    },
    "tags": []
   },
   "source": [
    "better, use comments:"
   ]
  },
  {
   "cell_type": "markdown",
   "metadata": {
    "jupyter": {
     "source_hidden": true
    },
    "tags": []
   },
   "source": [
    "```python\n",
    "s = 1 # length of sides of a unit square\n",
    "r = 1 # radius of a unit circle\n",
    "# compute areas and then\n",
    "# subtract area of unit circle from area of unit square \n",
    "a1 = pi*r**2\n",
    "a2 = s*s\n",
    "diff = a1 - a2\n",
    "```"
   ]
  },
  {
   "cell_type": "markdown",
   "metadata": {
    "jupyter": {
     "source_hidden": true
    },
    "tags": []
   },
   "source": [
    "best, use descriptive names:"
   ]
  },
  {
   "cell_type": "markdown",
   "metadata": {
    "jupyter": {
     "source_hidden": true
    },
    "tags": []
   },
   "source": [
    "```python\n",
    "side = 1 \n",
    "radius = 1 \n",
    "\n",
    "area_circle = pi*radius**2\n",
    "area_square = side*side\n",
    "difference = area_square - area_circle\n",
    "```"
   ]
  },
  {
   "cell_type": "markdown",
   "metadata": {
    "tags": []
   },
   "source": [
    "---\n",
    "## Objects"
   ]
  },
  {
   "cell_type": "markdown",
   "metadata": {
    "tags": []
   },
   "source": [
    "* It is said that everything in Python is an **object**\n",
    "* An **object** is an in-computer-memory representation of a **value**. \n",
    "* Each object is characterized by its **identity**, **type**, and **value**."
   ]
  },
  {
   "cell_type": "code",
   "execution_count": 15,
   "metadata": {
    "pycharm": {
     "is_executing": true
    },
    "ExecuteTime": {
     "end_time": "2024-09-04T15:15:40.353865Z",
     "start_time": "2024-09-04T15:15:38.517576Z"
    }
   },
   "outputs": [],
   "source": []
  },
  {
   "cell_type": "markdown",
   "metadata": {
    "tags": []
   },
   "source": [
    "A  variable is a name __bound__ to an __object__ or more formally a __reference__ to an __object__. This association is referred to as [name binding](https://www.wikiwand.com/en/Name_binding). \n"
   ]
  },
  {
   "cell_type": "markdown",
   "metadata": {
    "tags": []
   },
   "source": [
    "\n",
    "\n",
    "One binds a name to an object using the __assignment operator =__ and the resulting Python code is called an __assigment statement__.\n",
    "\n",
    "For example, the following code __binds__ the __name__ *x* to the object *2* (an integer whose value is 2) \n"
   ]
  },
  {
   "cell_type": "code",
   "execution_count": 16,
   "metadata": {
    "tags": [],
    "ExecuteTime": {
     "end_time": "2024-09-04T15:15:40.363953Z",
     "start_time": "2024-09-04T15:15:38.544993Z"
    }
   },
   "outputs": [],
   "source": [
    "x = 2  # the name x is bound to the object 2"
   ]
  },
  {
   "cell_type": "markdown",
   "metadata": {
    "tags": []
   },
   "source": [
    "After this assignment, the state of the Python interpreter is:\n",
    "\n",
    "x ---> 2\n",
    "\n",
    "It has one name (x) and one object (2).\n",
    "\n",
    "When you enter a name in Python, it gives you back the object bound to it.\n",
    "\n",
    "\\>\\>\\> x \\\n",
    "2"
   ]
  },
  {
   "cell_type": "code",
   "execution_count": 17,
   "metadata": {
    "ExecuteTime": {
     "end_time": "2024-09-04T15:15:40.381268Z",
     "start_time": "2024-09-04T15:15:38.559908Z"
    }
   },
   "outputs": [
    {
     "data": {
      "text/plain": "2"
     },
     "execution_count": 17,
     "metadata": {},
     "output_type": "execute_result"
    }
   ],
   "source": [
    "x"
   ]
  },
  {
   "cell_type": "code",
   "execution_count": 18,
   "metadata": {
    "tags": [],
    "ExecuteTime": {
     "end_time": "2024-09-04T15:15:40.381621Z",
     "start_time": "2024-09-04T15:15:38.563673Z"
    }
   },
   "outputs": [
    {
     "name": "stdout",
     "output_type": "stream",
     "text": [
      "2\n"
     ]
    }
   ],
   "source": [
    "print(x)"
   ]
  },
  {
   "cell_type": "code",
   "execution_count": 19,
   "metadata": {
    "tags": [],
    "ExecuteTime": {
     "end_time": "2024-09-04T15:15:40.381709Z",
     "start_time": "2024-09-04T15:15:38.565641Z"
    }
   },
   "outputs": [],
   "source": [
    "# Consider the following:\n",
    "x = 2\n",
    "y = x"
   ]
  },
  {
   "cell_type": "markdown",
   "metadata": {
    "tags": []
   },
   "source": [
    "Following the execution of these statements, how many objects and how many references have been created?"
   ]
  },
  {
   "cell_type": "markdown",
   "metadata": {
    "jupyter": {
     "source_hidden": true
    },
    "tags": []
   },
   "source": [
    "Answer: <span style=\"color:white\"> One object, two references </span>"
   ]
  },
  {
   "cell_type": "markdown",
   "metadata": {
    "jupyter": {
     "source_hidden": true
    },
    "tags": []
   },
   "source": [
    "The first statement creates an integer object with value 2, and *x* is a reference to it. The second statement creates a second reference to the already existing object.\n",
    "\n",
    "x --> 2 <-- y"
   ]
  },
  {
   "cell_type": "markdown",
   "metadata": {
    "tags": []
   },
   "source": [
    "#### Object id\n",
    "\n",
    "The value of x \"lives\" at some memory \"address\" on your computer. \n",
    "\n",
    "You can find the memory location using the intrinsic function __id()__"
   ]
  },
  {
   "cell_type": "code",
   "execution_count": 20,
   "metadata": {
    "tags": [],
    "ExecuteTime": {
     "end_time": "2024-09-04T15:15:40.400421Z",
     "start_time": "2024-09-04T15:15:38.617334Z"
    }
   },
   "outputs": [
    {
     "name": "stdout",
     "output_type": "stream",
     "text": [
      "4307118416\n"
     ]
    }
   ],
   "source": [
    "print(id(x))"
   ]
  },
  {
   "cell_type": "code",
   "execution_count": 21,
   "metadata": {
    "tags": [],
    "ExecuteTime": {
     "end_time": "2024-09-04T15:15:40.400683Z",
     "start_time": "2024-09-04T15:15:38.619558Z"
    }
   },
   "outputs": [
    {
     "name": "stdout",
     "output_type": "stream",
     "text": [
      "4307118416\n"
     ]
    }
   ],
   "source": [
    "print(id(2))"
   ]
  },
  {
   "cell_type": "code",
   "execution_count": 22,
   "metadata": {
    "tags": [],
    "ExecuteTime": {
     "end_time": "2024-09-04T15:15:40.400838Z",
     "start_time": "2024-09-04T15:15:38.622212Z"
    }
   },
   "outputs": [
    {
     "name": "stdout",
     "output_type": "stream",
     "text": [
      "4307118416\n"
     ]
    }
   ],
   "source": [
    "print(id(y))"
   ]
  },
  {
   "cell_type": "code",
   "execution_count": 23,
   "metadata": {
    "tags": [],
    "ExecuteTime": {
     "end_time": "2024-09-04T15:15:40.401024Z",
     "start_time": "2024-09-04T15:15:38.624407Z"
    }
   },
   "outputs": [
    {
     "name": "stdout",
     "output_type": "stream",
     "text": [
      "4307118384\n"
     ]
    }
   ],
   "source": [
    "y = 1\n",
    "print(id(y))"
   ]
  },
  {
   "cell_type": "markdown",
   "metadata": {
    "tags": []
   },
   "source": [
    "#### Object type\n",
    "\n",
    "An object's type can be determined using the __type()__ function"
   ]
  },
  {
   "cell_type": "code",
   "execution_count": 24,
   "metadata": {
    "tags": [],
    "ExecuteTime": {
     "end_time": "2024-09-04T15:15:40.404616Z",
     "start_time": "2024-09-04T15:15:38.631549Z"
    }
   },
   "outputs": [
    {
     "name": "stdout",
     "output_type": "stream",
     "text": [
      "<class 'int'>\n",
      "<class 'int'>\n"
     ]
    }
   ],
   "source": [
    "print(type(2))\n",
    "print(type(x))"
   ]
  },
  {
   "cell_type": "markdown",
   "metadata": {
    "tags": []
   },
   "source": [
    "# Basic Data Types"
   ]
  },
  {
   "cell_type": "markdown",
   "metadata": {
    "tags": []
   },
   "source": [
    "- Boolean\n",
    "- Numeric\n",
    "- String"
   ]
  },
  {
   "cell_type": "markdown",
   "metadata": {
    "tags": []
   },
   "source": [
    "## <font color=\"red\">Booleans</font>"
   ]
  },
  {
   "cell_type": "markdown",
   "metadata": {
    "tags": []
   },
   "source": [
    "Boolean type may have one of two values, True or False:"
   ]
  },
  {
   "cell_type": "code",
   "execution_count": 25,
   "metadata": {
    "ExecuteTime": {
     "end_time": "2024-09-04T15:15:40.416613Z",
     "start_time": "2024-09-04T15:15:38.685618Z"
    }
   },
   "outputs": [],
   "source": [
    "t = True"
   ]
  },
  {
   "cell_type": "code",
   "execution_count": 26,
   "metadata": {
    "tags": [],
    "ExecuteTime": {
     "end_time": "2024-09-04T15:15:40.416968Z",
     "start_time": "2024-09-04T15:15:38.687858Z"
    }
   },
   "outputs": [
    {
     "name": "stdout",
     "output_type": "stream",
     "text": [
      "<class 'bool'>\n",
      "<class 'bool'>\n"
     ]
    }
   ],
   "source": [
    "T = True\n",
    "print(type(T))\n",
    "F = False\n",
    "print(type(F))"
   ]
  },
  {
   "cell_type": "markdown",
   "metadata": {
    "tags": []
   },
   "source": [
    "### Logical operators\n",
    "The primitive operators on type **bool** are *and*, *or*, and *not*: \n",
    "* *a and b* is **True** if both a and b are **True**, and **False** otherwise.\n",
    "* *a or b* is **True** if at least one of a or b is **True**, and **False** otherwise. \n",
    "* *not a* is **True** if a is **False**, and **False** if a is **True**."
   ]
  },
  {
   "cell_type": "markdown",
   "metadata": {
    "tags": []
   },
   "source": [
    "### Comparison operators\n",
    "\n",
    "The comparison operators are \n",
    "\n",
    "* == (equal)\n",
    "* != (not equal)\n",
    "* \\> (greater)\n",
    "* \\>= (at least)\n",
    "* < (less) \n",
    "* <= (at most)\n",
    "\n",
    "Output of operations with comparison operators evaluate to a __bool__ type:\n"
   ]
  },
  {
   "cell_type": "code",
   "execution_count": 27,
   "metadata": {
    "tags": [],
    "ExecuteTime": {
     "end_time": "2024-09-04T15:15:40.428841Z",
     "start_time": "2024-09-04T15:15:38.713288Z"
    }
   },
   "outputs": [
    {
     "data": {
      "text/plain": "False"
     },
     "execution_count": 27,
     "metadata": {},
     "output_type": "execute_result"
    }
   ],
   "source": [
    "(5 - 3) == (1 + 3)"
   ]
  },
  {
   "cell_type": "code",
   "execution_count": 28,
   "metadata": {
    "tags": [],
    "ExecuteTime": {
     "end_time": "2024-09-04T15:15:40.429098Z",
     "start_time": "2024-09-04T15:15:38.715546Z"
    }
   },
   "outputs": [
    {
     "data": {
      "text/plain": "True"
     },
     "execution_count": 28,
     "metadata": {},
     "output_type": "execute_result"
    }
   ],
   "source": [
    "3 != 2"
   ]
  },
  {
   "cell_type": "markdown",
   "metadata": {
    "tags": []
   },
   "source": [
    "## Numeric types"
   ]
  },
  {
   "cell_type": "markdown",
   "metadata": {
    "tags": []
   },
   "source": [
    "## <span style='color:red'> Integers </span> "
   ]
  },
  {
   "cell_type": "code",
   "execution_count": 29,
   "metadata": {
    "tags": [],
    "pycharm": {
     "is_executing": true
    },
    "ExecuteTime": {
     "end_time": "2024-09-04T15:15:40.432672Z",
     "start_time": "2024-09-04T15:15:38.740939Z"
    }
   },
   "outputs": [
    {
     "name": "stdout",
     "output_type": "stream",
     "text": [
      "<class 'int'>\n",
      "<class 'int'>\n"
     ]
    }
   ],
   "source": [
    "z = -1\n",
    "y = 2021\n",
    "print(type(z))\n",
    "print(type(y))"
   ]
  },
  {
   "cell_type": "markdown",
   "metadata": {
    "tags": []
   },
   "source": [
    "* There is no limit to how long an integer value can be.\n",
    "* The value is constrained by the amount of memory your system has."
   ]
  },
  {
   "cell_type": "code",
   "execution_count": 30,
   "metadata": {
    "tags": [],
    "ExecuteTime": {
     "end_time": "2024-09-04T15:15:40.443562Z",
     "start_time": "2024-09-04T15:15:38.755138Z"
    }
   },
   "outputs": [],
   "source": [
    "x = 1000000000000000000000000000000000000000000000000000000000000000000000000000000009"
   ]
  },
  {
   "cell_type": "code",
   "execution_count": 31,
   "metadata": {
    "tags": [],
    "ExecuteTime": {
     "end_time": "2024-09-04T15:15:40.444122Z",
     "start_time": "2024-09-04T15:15:38.757290Z"
    }
   },
   "outputs": [
    {
     "name": "stdout",
     "output_type": "stream",
     "text": [
      "1000000000000000000000000000000000000000000000000000000000000000000000000000000010\n"
     ]
    }
   ],
   "source": [
    "x = x + 1\n",
    "print(x)"
   ]
  },
  {
   "cell_type": "markdown",
   "metadata": {
    "tags": []
   },
   "source": [
    "#### Numbers in other bases\n",
    "\n",
    "_There are 10 types of people: those who understand binary and those who don't_"
   ]
  },
  {
   "cell_type": "markdown",
   "metadata": {
    "tags": []
   },
   "source": [
    "Python interprets a sequence of decimal digits without any prefix to be a __decimal number__, i.e. base 10:"
   ]
  },
  {
   "cell_type": "code",
   "execution_count": 32,
   "metadata": {
    "tags": [],
    "ExecuteTime": {
     "end_time": "2024-09-04T15:15:40.447942Z",
     "start_time": "2024-09-04T15:15:38.782264Z"
    }
   },
   "outputs": [
    {
     "name": "stdout",
     "output_type": "stream",
     "text": [
      "10\n"
     ]
    }
   ],
   "source": [
    "print(10)"
   ]
  },
  {
   "cell_type": "markdown",
   "metadata": {
    "tags": []
   },
   "source": [
    "The following strings can be prepended to an integer value to indicate a base other than 10:"
   ]
  },
  {
   "cell_type": "markdown",
   "metadata": {
    "tags": []
   },
   "source": [
    "\n",
    "| Prefix |\tInterpretation\t| Base |\n",
    "| --- | --- | --- | \n",
    "| 0b (zero + lowercase letter 'b') | Binary| \t2|\n",
    "| 0B (zero + uppercase letter 'B')|\t \n",
    "| 0o (zero + lowercase letter 'o')|  Octal| \t8|\n",
    "| 0O (zero + uppercase letter 'O')|\n",
    "| 0x (zero + lowercase letter 'x')|  Hexadecimal| \t16|\n",
    "| 0X (zero + uppercase letter 'X')| \t"
   ]
  },
  {
   "cell_type": "code",
   "execution_count": 33,
   "metadata": {
    "tags": [],
    "ExecuteTime": {
     "end_time": "2024-09-04T15:15:40.451768Z",
     "start_time": "2024-09-04T15:15:38.809166Z"
    }
   },
   "outputs": [
    {
     "name": "stdout",
     "output_type": "stream",
     "text": [
      "8\n",
      "16\n",
      "2\n"
     ]
    }
   ],
   "source": [
    "print(0o10)\n",
    "print(0x10)\n",
    "print(0b10)"
   ]
  },
  {
   "cell_type": "markdown",
   "metadata": {
    "tags": []
   },
   "source": [
    "The underlying __type__ of a Python integer, irrespective of the base used to specify it, is called __int__:"
   ]
  },
  {
   "cell_type": "code",
   "execution_count": 34,
   "metadata": {
    "tags": [],
    "ExecuteTime": {
     "end_time": "2024-09-04T15:15:40.455324Z",
     "start_time": "2024-09-04T15:15:38.823353Z"
    }
   },
   "outputs": [
    {
     "name": "stdout",
     "output_type": "stream",
     "text": [
      "<class 'int'>\n",
      "<class 'int'>\n",
      "<class 'int'>\n"
     ]
    }
   ],
   "source": [
    "print(type(0o10))\n",
    "print(type(0x10))\n",
    "print(type(0b10))"
   ]
  },
  {
   "cell_type": "markdown",
   "metadata": {
    "tags": []
   },
   "source": [
    "### Integer Arithmetic"
   ]
  },
  {
   "cell_type": "code",
   "execution_count": 35,
   "metadata": {
    "tags": [],
    "ExecuteTime": {
     "end_time": "2024-09-04T15:15:40.467874Z",
     "start_time": "2024-09-04T15:15:38.838082Z"
    }
   },
   "outputs": [
    {
     "name": "stdout",
     "output_type": "stream",
     "text": [
      "3\n",
      "-1\n",
      "30\n",
      "1.25\n"
     ]
    }
   ],
   "source": [
    "print(1 + 2)\n",
    "print(3 - 4)\n",
    "print(5 * 6)\n",
    "print(10 / 8)    # /"
   ]
  },
  {
   "cell_type": "code",
   "execution_count": 36,
   "metadata": {
    "tags": [],
    "ExecuteTime": {
     "end_time": "2024-09-04T15:15:40.468172Z",
     "start_time": "2024-09-04T15:15:38.840645Z"
    }
   },
   "outputs": [
    {
     "name": "stdout",
     "output_type": "stream",
     "text": [
      "1\n"
     ]
    }
   ],
   "source": [
    "# Floor division\n",
    "print(15 // 8)  "
   ]
  },
  {
   "cell_type": "markdown",
   "metadata": {
    "tags": []
   },
   "source": [
    "Note that the floor division returns the integer part of the quotient."
   ]
  },
  {
   "cell_type": "code",
   "execution_count": 37,
   "metadata": {
    "tags": [],
    "ExecuteTime": {
     "end_time": "2024-09-04T15:15:40.481861Z",
     "start_time": "2024-09-04T15:15:38.852475Z"
    }
   },
   "outputs": [
    {
     "name": "stdout",
     "output_type": "stream",
     "text": [
      "<class 'int'>\n"
     ]
    }
   ],
   "source": [
    "print(type(10 // 8))    # int, integer"
   ]
  },
  {
   "cell_type": "code",
   "execution_count": 38,
   "metadata": {
    "tags": [],
    "ExecuteTime": {
     "end_time": "2024-09-04T15:15:40.482201Z",
     "start_time": "2024-09-04T15:15:38.854973Z"
    }
   },
   "outputs": [
    {
     "name": "stdout",
     "output_type": "stream",
     "text": [
      "2\n"
     ]
    }
   ],
   "source": [
    "# Modulo operator\n",
    "print(10 % 8)"
   ]
  },
  {
   "cell_type": "markdown",
   "metadata": {
    "tags": []
   },
   "source": [
    "The % (modulo) operator yields the remainder from the division of the first argument by the second."
   ]
  },
  {
   "cell_type": "markdown",
   "metadata": {
    "tags": []
   },
   "source": [
    "---"
   ]
  },
  {
   "cell_type": "markdown",
   "metadata": {
    "tags": []
   },
   "source": [
    "### <font color=\"red\">Floating Point Numbers </font>"
   ]
  },
  {
   "cell_type": "markdown",
   "metadata": {
    "tags": []
   },
   "source": [
    "* The __float__ type in Python designates a floating-point number. \n",
    "* Float values are specified with a decimal point. \n",
    "* The character e or E followed by a positive or negative integer may be appended to specify scientific notation."
   ]
  },
  {
   "cell_type": "code",
   "execution_count": 39,
   "metadata": {
    "tags": [],
    "ExecuteTime": {
     "end_time": "2024-09-04T15:15:40.524389Z",
     "start_time": "2024-09-04T15:15:38.905690Z"
    }
   },
   "outputs": [
    {
     "name": "stdout",
     "output_type": "stream",
     "text": [
      "<class 'float'>\n"
     ]
    }
   ],
   "source": [
    "print(type(7.))"
   ]
  },
  {
   "cell_type": "code",
   "execution_count": 40,
   "metadata": {
    "tags": [],
    "ExecuteTime": {
     "end_time": "2024-09-04T15:15:40.525091Z",
     "start_time": "2024-09-04T15:15:38.907945Z"
    }
   },
   "outputs": [
    {
     "name": "stdout",
     "output_type": "stream",
     "text": [
      "<class 'float'>\n"
     ]
    }
   ],
   "source": [
    "x = 11.\n",
    "print(type(x))"
   ]
  },
  {
   "cell_type": "code",
   "execution_count": 41,
   "metadata": {
    "tags": [],
    "ExecuteTime": {
     "end_time": "2024-09-04T15:15:40.525289Z",
     "start_time": "2024-09-04T15:15:38.910178Z"
    }
   },
   "outputs": [
    {
     "data": {
      "text/plain": "0.56"
     },
     "execution_count": 41,
     "metadata": {},
     "output_type": "execute_result"
    }
   ],
   "source": [
    ".56"
   ]
  },
  {
   "cell_type": "code",
   "execution_count": 42,
   "metadata": {
    "tags": [],
    "ExecuteTime": {
     "end_time": "2024-09-04T15:15:40.525445Z",
     "start_time": "2024-09-04T15:15:38.912639Z"
    }
   },
   "outputs": [
    {
     "data": {
      "text/plain": "56.0"
     },
     "execution_count": 42,
     "metadata": {},
     "output_type": "execute_result"
    }
   ],
   "source": [
    "56."
   ]
  },
  {
   "cell_type": "code",
   "execution_count": 43,
   "metadata": {
    "tags": [],
    "ExecuteTime": {
     "end_time": "2024-09-04T15:15:40.545379Z",
     "start_time": "2024-09-04T15:15:38.916827Z"
    }
   },
   "outputs": [
    {
     "data": {
      "text/plain": "6.674e-11"
     },
     "execution_count": 43,
     "metadata": {},
     "output_type": "execute_result"
    }
   ],
   "source": [
    "6.674e-11  # scientific notation"
   ]
  },
  {
   "cell_type": "code",
   "execution_count": 44,
   "metadata": {
    "tags": [],
    "ExecuteTime": {
     "end_time": "2024-09-04T15:15:40.546315Z",
     "start_time": "2024-09-04T15:15:38.919233Z"
    }
   },
   "outputs": [
    {
     "data": {
      "text/plain": "6.674e-11"
     },
     "execution_count": 44,
     "metadata": {},
     "output_type": "execute_result"
    }
   ],
   "source": [
    "0.00000000006674"
   ]
  },
  {
   "cell_type": "code",
   "execution_count": 45,
   "metadata": {
    "tags": [],
    "ExecuteTime": {
     "end_time": "2024-09-04T15:15:40.546508Z",
     "start_time": "2024-09-04T15:15:38.922140Z"
    }
   },
   "outputs": [
    {
     "data": {
      "text/plain": "300000000.0"
     },
     "execution_count": 45,
     "metadata": {},
     "output_type": "execute_result"
    }
   ],
   "source": [
    "3e8  # this is a float"
   ]
  },
  {
   "cell_type": "code",
   "execution_count": 46,
   "metadata": {
    "tags": [],
    "ExecuteTime": {
     "end_time": "2024-09-04T15:15:40.546662Z",
     "start_time": "2024-09-04T15:15:38.925166Z"
    }
   },
   "outputs": [
    {
     "data": {
      "text/plain": "300000000"
     },
     "execution_count": 46,
     "metadata": {},
     "output_type": "execute_result"
    }
   ],
   "source": [
    "# However...\n",
    "\n",
    "300000000  # this is an int"
   ]
  },
  {
   "cell_type": "markdown",
   "metadata": {
    "tags": []
   },
   "source": [
    "* Floating point numbers are represented __internally__ as binary (base-2) fractions. \n",
    "    * For more information see: binary [representation](https://en.wikipedia.org/wiki/Binary_number#Representation) of numbers.\n",
    "* Most decimal fractions cannot be represented exactly as binary fractions, so in most cases the internal representation of a floating-point number is an approximation of the actual value.\n",
    "\n",
    "What is the answer to:\n",
    "```python\n",
    "1.1 + 2.2 ?\n",
    "```"
   ]
  },
  {
   "cell_type": "code",
   "execution_count": 47,
   "metadata": {
    "ExecuteTime": {
     "end_time": "2024-09-04T15:15:40.546923Z",
     "start_time": "2024-09-04T15:15:38.928913Z"
    }
   },
   "outputs": [
    {
     "data": {
      "text/plain": "3.3000000000000003"
     },
     "execution_count": 47,
     "metadata": {},
     "output_type": "execute_result"
    }
   ],
   "source": [
    "1.1 + 2.2"
   ]
  },
  {
   "cell_type": "markdown",
   "metadata": {
    "tags": []
   },
   "source": [
    "For correctly-rounded arithmetic and configurable precision you may use the [decimal module](https://docs.python.org/3.7/library/decimal.html)"
   ]
  },
  {
   "cell_type": "code",
   "execution_count": 48,
   "metadata": {
    "tags": [],
    "ExecuteTime": {
     "end_time": "2024-09-04T15:15:40.559719Z",
     "start_time": "2024-09-04T15:15:38.936915Z"
    }
   },
   "outputs": [
    {
     "data": {
      "text/plain": "3.3"
     },
     "execution_count": 48,
     "metadata": {},
     "output_type": "execute_result"
    }
   ],
   "source": [
    "from decimal import Decimal as D\n",
    "float(D('1.1') + D('2.2'))"
   ]
  },
  {
   "cell_type": "code",
   "execution_count": 49,
   "metadata": {
    "tags": [],
    "ExecuteTime": {
     "end_time": "2024-09-04T15:15:40.559987Z",
     "start_time": "2024-09-04T15:15:38.939755Z"
    }
   },
   "outputs": [
    {
     "name": "stdout",
     "output_type": "stream",
     "text": [
      "<class 'float'>\n"
     ]
    }
   ],
   "source": [
    "x = float(3)    # int(), float()\n",
    "print(type(x))    # type casting, type coercion"
   ]
  },
  {
   "cell_type": "markdown",
   "metadata": {
    "tags": []
   },
   "source": [
    "#### Operations on Floats"
   ]
  },
  {
   "cell_type": "code",
   "execution_count": 50,
   "metadata": {
    "tags": [],
    "ExecuteTime": {
     "end_time": "2024-09-04T15:15:40.575187Z",
     "start_time": "2024-09-04T15:15:38.950728Z"
    }
   },
   "outputs": [
    {
     "name": "stdout",
     "output_type": "stream",
     "text": [
      "1\n",
      "1\n",
      "-1\n",
      "-1\n"
     ]
    }
   ],
   "source": [
    "print(int(1.3))   # gives 1  - truncation (not rounding)\n",
    "print(int(1.99999))   # gives 1\n",
    "print(int(-1.3))  # gives -1\n",
    "print(int(-1.7))  # gives -1"
   ]
  },
  {
   "cell_type": "code",
   "execution_count": 51,
   "metadata": {
    "ExecuteTime": {
     "end_time": "2024-09-04T15:15:40.575653Z",
     "start_time": "2024-09-04T15:15:38.952745Z"
    }
   },
   "outputs": [
    {
     "data": {
      "text/plain": "1"
     },
     "execution_count": 51,
     "metadata": {},
     "output_type": "execute_result"
    }
   ],
   "source": [
    "round(1.3)"
   ]
  },
  {
   "cell_type": "code",
   "execution_count": 52,
   "metadata": {
    "tags": [],
    "ExecuteTime": {
     "end_time": "2024-09-04T15:15:40.575816Z",
     "start_time": "2024-09-04T15:15:38.955721Z"
    }
   },
   "outputs": [
    {
     "name": "stdout",
     "output_type": "stream",
     "text": [
      "1\n",
      "2\n",
      "-1\n",
      "-2\n"
     ]
    }
   ],
   "source": [
    "print(round(1.3))   # gives 1  - rounding\n",
    "print(round(1.7))   # gives 2\n",
    "print(round(-1.3))  # gives -1\n",
    "print(round(-1.7))  # gives -2"
   ]
  },
  {
   "cell_type": "markdown",
   "metadata": {
    "tags": []
   },
   "source": [
    "### <font color=\"red\">Complex Numbers</font>"
   ]
  },
  {
   "cell_type": "markdown",
   "metadata": {
    "tags": []
   },
   "source": [
    "- A complex number consists of an ordered pair of real floating point numbers denoted by a + bj, where a is the real part and b is the imaginary part of the complex number."
   ]
  },
  {
   "cell_type": "code",
   "execution_count": 53,
   "metadata": {
    "tags": [],
    "pycharm": {
     "is_executing": true
    },
    "ExecuteTime": {
     "end_time": "2024-09-04T15:15:40.615534Z",
     "start_time": "2024-09-04T15:15:38.981942Z"
    }
   },
   "outputs": [
    {
     "data": {
      "text/plain": "(3+9j)"
     },
     "execution_count": 53,
     "metadata": {},
     "output_type": "execute_result"
    }
   ],
   "source": [
    "3.0 + 9j"
   ]
  },
  {
   "cell_type": "code",
   "execution_count": 54,
   "metadata": {
    "tags": [],
    "ExecuteTime": {
     "end_time": "2024-09-04T15:15:40.615856Z",
     "start_time": "2024-09-04T15:15:38.984874Z"
    }
   },
   "outputs": [
    {
     "data": {
      "text/plain": "complex"
     },
     "execution_count": 54,
     "metadata": {},
     "output_type": "execute_result"
    }
   ],
   "source": [
    "type(3.0 + 9j)"
   ]
  },
  {
   "cell_type": "code",
   "execution_count": 55,
   "metadata": {
    "tags": [],
    "ExecuteTime": {
     "end_time": "2024-09-04T15:15:40.621710Z",
     "start_time": "2024-09-04T15:15:38.987511Z"
    }
   },
   "outputs": [
    {
     "name": "stdout",
     "output_type": "stream",
     "text": [
      "a =  (3+9j)\n"
     ]
    }
   ],
   "source": [
    "a = complex(3.0, 9)\n",
    "print(\"a = \", a)"
   ]
  },
  {
   "cell_type": "code",
   "execution_count": 56,
   "metadata": {
    "tags": [],
    "ExecuteTime": {
     "end_time": "2024-09-04T15:15:40.621961Z",
     "start_time": "2024-09-04T15:15:38.990187Z"
    }
   },
   "outputs": [],
   "source": [
    "import math"
   ]
  },
  {
   "cell_type": "code",
   "execution_count": 57,
   "metadata": {
    "tags": [],
    "ExecuteTime": {
     "end_time": "2024-09-04T15:15:40.622173Z",
     "start_time": "2024-09-04T15:15:38.992897Z"
    }
   },
   "outputs": [
    {
     "name": "stdout",
     "output_type": "stream",
     "text": [
      "Real Part = 3.0\n",
      "Imaginary Part = 9.0\n",
      "Complex conjugate = (3-9j)\n"
     ]
    }
   ],
   "source": [
    "print('Real Part =', a.real)\n",
    "print('Imaginary Part =', a.imag)\n",
    "print('Complex conjugate =', a.conjugate())"
   ]
  },
  {
   "cell_type": "code",
   "execution_count": 58,
   "metadata": {
    "tags": [],
    "ExecuteTime": {
     "end_time": "2024-09-04T15:15:40.622306Z",
     "start_time": "2024-09-04T15:15:38.995591Z"
    }
   },
   "outputs": [
    {
     "name": "stdout",
     "output_type": "stream",
     "text": [
      "a*a= (-72+54j)\n",
      "a/b= (4.2+0.6j)\n",
      "a*a= (-72+54j)\n"
     ]
    }
   ],
   "source": [
    "b = complex(1,2)\n",
    "print (\"a*a=\",a*a)\n",
    "print (\"a/b=\",a/b)\n",
    "print (\"a*a=\",a*a)"
   ]
  },
  {
   "cell_type": "markdown",
   "metadata": {},
   "source": [
    "### <font color=\"red\">Special values</font>"
   ]
  },
  {
   "cell_type": "markdown",
   "metadata": {
    "tags": []
   },
   "source": [
    "#### Inf, NaN"
   ]
  },
  {
   "cell_type": "code",
   "execution_count": 59,
   "metadata": {
    "ExecuteTime": {
     "end_time": "2024-09-04T15:15:40.625459Z",
     "start_time": "2024-09-04T15:15:39.011647Z"
    }
   },
   "outputs": [],
   "source": [
    "import math"
   ]
  },
  {
   "cell_type": "markdown",
   "metadata": {},
   "source": [
    "#### $\\infty$\n",
    "\n",
    "e.g. as x becomes \"very large\" math.exp(x) approaches $\\infty$\n"
   ]
  },
  {
   "cell_type": "code",
   "execution_count": 60,
   "metadata": {
    "ExecuteTime": {
     "end_time": "2024-09-04T15:15:40.628688Z",
     "start_time": "2024-09-04T15:15:39.026257Z"
    }
   },
   "outputs": [
    {
     "name": "stdout",
     "output_type": "stream",
     "text": [
      "True\n"
     ]
    }
   ],
   "source": [
    "x=float(\"inf\")\n",
    "print(math.isinf(x))"
   ]
  },
  {
   "cell_type": "markdown",
   "metadata": {},
   "source": [
    "#### NaN\n",
    "\n",
    "e.g. $ \\frac{0}{0} $"
   ]
  },
  {
   "cell_type": "code",
   "execution_count": 61,
   "metadata": {
    "ExecuteTime": {
     "end_time": "2024-09-04T15:15:40.632201Z",
     "start_time": "2024-09-04T15:15:39.040628Z"
    }
   },
   "outputs": [
    {
     "name": "stdout",
     "output_type": "stream",
     "text": [
      "True\n"
     ]
    }
   ],
   "source": [
    "x = float(\"nan\")\n",
    "print(math.isnan(x))"
   ]
  },
  {
   "cell_type": "markdown",
   "metadata": {},
   "source": [
    "#### None"
   ]
  },
  {
   "cell_type": "code",
   "execution_count": 62,
   "metadata": {
    "ExecuteTime": {
     "end_time": "2024-09-04T15:15:40.640192Z",
     "start_time": "2024-09-04T15:15:39.054978Z"
    }
   },
   "outputs": [
    {
     "name": "stdout",
     "output_type": "stream",
     "text": [
      "None\n",
      "<class 'NoneType'>\n"
     ]
    }
   ],
   "source": [
    "x = None\n",
    "print(x)\n",
    "print(type(x))\n"
   ]
  },
  {
   "cell_type": "markdown",
   "metadata": {
    "tags": []
   },
   "source": [
    "## <font color=\"red\">Strings</font>"
   ]
  },
  {
   "cell_type": "markdown",
   "metadata": {
    "tags": []
   },
   "source": [
    "* Strings are __sequences__ of character data. \n",
    "* The string type in Python is called __str__.\n",
    "* String literals may be delimited using either single or double quotes.\n",
    "* All the characters between the opening delimiter and matching closing delimiter are part of the string.\n",
    "* <font color='blue'>Are immutable</font>."
   ]
  },
  {
   "cell_type": "code",
   "execution_count": 63,
   "metadata": {
    "tags": [],
    "ExecuteTime": {
     "end_time": "2024-09-04T15:15:40.678820Z",
     "start_time": "2024-09-04T15:15:39.083Z"
    }
   },
   "outputs": [],
   "source": [
    "s = \"hello\""
   ]
  },
  {
   "cell_type": "code",
   "execution_count": 64,
   "metadata": {
    "tags": [],
    "ExecuteTime": {
     "end_time": "2024-09-04T15:15:40.679289Z",
     "start_time": "2024-09-04T15:15:39.085938Z"
    }
   },
   "outputs": [
    {
     "data": {
      "text/plain": "4366639792"
     },
     "execution_count": 64,
     "metadata": {},
     "output_type": "execute_result"
    }
   ],
   "source": [
    "id(s)  # id() << memory address of a variable"
   ]
  },
  {
   "cell_type": "code",
   "execution_count": 65,
   "metadata": {
    "tags": [],
    "ExecuteTime": {
     "end_time": "2024-09-04T15:15:40.679446Z",
     "start_time": "2024-09-04T15:15:39.088419Z"
    }
   },
   "outputs": [
    {
     "data": {
      "text/plain": "'e'"
     },
     "execution_count": 65,
     "metadata": {},
     "output_type": "execute_result"
    }
   ],
   "source": [
    "s[1]"
   ]
  },
  {
   "cell_type": "code",
   "execution_count": 66,
   "metadata": {
    "tags": [],
    "ExecuteTime": {
     "start_time": "2024-09-04T15:15:39.091277Z"
    }
   },
   "outputs": [
    {
     "ename": "TypeError",
     "evalue": "'str' object does not support item assignment",
     "output_type": "error",
     "traceback": [
      "\u001B[0;31m---------------------------------------------------------------------------\u001B[0m",
      "\u001B[0;31mTypeError\u001B[0m                                 Traceback (most recent call last)",
      "Input \u001B[0;32mIn [66]\u001B[0m, in \u001B[0;36m<cell line: 1>\u001B[0;34m()\u001B[0m\n\u001B[0;32m----> 1\u001B[0m s[\u001B[38;5;241m0\u001B[39m] \u001B[38;5;241m=\u001B[39m \u001B[38;5;124m\"\u001B[39m\u001B[38;5;124mH\u001B[39m\u001B[38;5;124m\"\u001B[39m\n",
      "\u001B[0;31mTypeError\u001B[0m: 'str' object does not support item assignment"
     ]
    }
   ],
   "source": [
    "s[0] = \"H\""
   ]
  },
  {
   "cell_type": "code",
   "execution_count": null,
   "metadata": {
    "tags": [],
    "ExecuteTime": {
     "start_time": "2024-09-04T15:15:39.333108Z"
    }
   },
   "outputs": [],
   "source": [
    "s = \"Hello\""
   ]
  },
  {
   "cell_type": "code",
   "execution_count": null,
   "metadata": {
    "tags": [],
    "ExecuteTime": {
     "start_time": "2024-09-04T15:15:39.334197Z"
    }
   },
   "outputs": [],
   "source": [
    "id(s)  # id() << memory address of a variable"
   ]
  },
  {
   "cell_type": "code",
   "execution_count": null,
   "metadata": {
    "tags": [],
    "ExecuteTime": {
     "start_time": "2024-09-04T15:15:39.335216Z"
    }
   },
   "outputs": [],
   "source": [
    "print(\"Python is fun!\")"
   ]
  },
  {
   "cell_type": "code",
   "execution_count": null,
   "metadata": {
    "tags": [],
    "ExecuteTime": {
     "start_time": "2024-09-04T15:15:39.336363Z"
    }
   },
   "outputs": [],
   "source": [
    "type('Python is fun!')"
   ]
  },
  {
   "cell_type": "markdown",
   "metadata": {
    "tags": []
   },
   "source": [
    "* A string in Python can contain as many characters as you wish.\n",
    "* The only limit is your machine’s memory resources. "
   ]
  },
  {
   "cell_type": "code",
   "execution_count": null,
   "metadata": {
    "tags": [],
    "ExecuteTime": {
     "start_time": "2024-09-04T15:15:39.337580Z"
    }
   },
   "outputs": [],
   "source": [
    "print(\"This string contains a single quote (') character.\")"
   ]
  },
  {
   "cell_type": "code",
   "execution_count": null,
   "metadata": {
    "tags": [],
    "ExecuteTime": {
     "start_time": "2024-09-04T15:15:39.339052Z"
    }
   },
   "outputs": [],
   "source": [
    "print('This string contains a double quote (\") character.')"
   ]
  },
  {
   "cell_type": "markdown",
   "metadata": {
    "tags": []
   },
   "source": [
    "#### Triple Quotes"
   ]
  },
  {
   "cell_type": "markdown",
   "metadata": {
    "tags": []
   },
   "source": [
    "- Triple-quoted strings are delimited by matching groups of three single quotes or three double quotes. \n",
    "- Escape sequences still work in triple-quoted strings, but single quotes, double quotes, and newlines can be included without escaping them. \n",
    "- Provide a convenient way to create a string with both single and double quotes in it."
   ]
  },
  {
   "cell_type": "code",
   "execution_count": null,
   "metadata": {
    "tags": [],
    "ExecuteTime": {
     "start_time": "2024-09-04T15:15:39.340536Z"
    }
   },
   "outputs": [],
   "source": [
    "print('''This string has a single (') and a double (\") quote.''')"
   ]
  },
  {
   "cell_type": "code",
   "execution_count": null,
   "metadata": {
    "tags": [],
    "ExecuteTime": {
     "start_time": "2024-09-04T15:15:39.341977Z"
    }
   },
   "outputs": [],
   "source": [
    "print(\"\"\"This is a\n",
    "string that spans\n",
    "across several lines\"\"\")"
   ]
  },
  {
   "cell_type": "markdown",
   "metadata": {
    "tags": []
   },
   "source": [
    "#### Newline character (\\n)"
   ]
  },
  {
   "cell_type": "code",
   "execution_count": null,
   "metadata": {
    "tags": [],
    "ExecuteTime": {
     "start_time": "2024-09-04T15:15:39.343455Z"
    }
   },
   "outputs": [],
   "source": [
    "print(\"\"\"This is a \\tstring that spans\\nacross several lines\"\"\")"
   ]
  },
  {
   "cell_type": "markdown",
   "metadata": {
    "tags": []
   },
   "source": [
    "### Accessing Values in Strings\n",
    "    - Python does not support a character type; these are treated as strings of length one, thus also considered a substring.\n",
    "    - To access substrings, use the square brackets for slicing along with the index or indices to obtain your substring"
   ]
  },
  {
   "cell_type": "raw",
   "metadata": {
    "tags": []
   },
   "source": [
    "s = 'hello'\n",
    "\n",
    "h e l l o\n",
    "^ ^ ^ ^ ^\n",
    "0 1 2 3 4"
   ]
  },
  {
   "cell_type": "code",
   "execution_count": null,
   "metadata": {
    "tags": [],
    "ExecuteTime": {
     "start_time": "2024-09-04T15:15:39.345804Z"
    }
   },
   "outputs": [],
   "source": [
    "s = 'hello'"
   ]
  },
  {
   "cell_type": "code",
   "execution_count": null,
   "metadata": {
    "tags": [],
    "ExecuteTime": {
     "start_time": "2024-09-04T15:15:39.347762Z"
    }
   },
   "outputs": [],
   "source": [
    "s[0]"
   ]
  },
  {
   "cell_type": "code",
   "execution_count": null,
   "metadata": {
    "tags": [],
    "ExecuteTime": {
     "start_time": "2024-09-04T15:15:39.349570Z"
    }
   },
   "outputs": [],
   "source": [
    "s[4]"
   ]
  },
  {
   "cell_type": "code",
   "execution_count": null,
   "metadata": {
    "tags": [],
    "ExecuteTime": {
     "start_time": "2024-09-04T15:15:39.350955Z"
    }
   },
   "outputs": [],
   "source": [
    "s[-1]"
   ]
  },
  {
   "cell_type": "code",
   "execution_count": null,
   "metadata": {
    "tags": [],
    "ExecuteTime": {
     "start_time": "2024-09-04T15:15:39.352341Z"
    }
   },
   "outputs": [],
   "source": [
    "# slicing   -   last index is excluded\n",
    "s[:]    # [start:end:stride]  - end is excluded"
   ]
  },
  {
   "cell_type": "code",
   "execution_count": null,
   "metadata": {
    "tags": [],
    "ExecuteTime": {
     "start_time": "2024-09-04T15:15:39.353995Z"
    }
   },
   "outputs": [],
   "source": [
    "s[-5:-1]"
   ]
  },
  {
   "cell_type": "code",
   "execution_count": null,
   "metadata": {
    "tags": [],
    "ExecuteTime": {
     "start_time": "2024-09-04T15:15:39.355659Z"
    }
   },
   "outputs": [],
   "source": [
    "# str[start:end:stride]"
   ]
  },
  {
   "cell_type": "code",
   "execution_count": null,
   "metadata": {
    "tags": [],
    "ExecuteTime": {
     "start_time": "2024-09-04T15:15:39.357050Z"
    }
   },
   "outputs": [],
   "source": [
    "s[0::2]   # hello"
   ]
  },
  {
   "cell_type": "markdown",
   "metadata": {
    "tags": []
   },
   "source": [
    "#### Updating Strings\n",
    "You cannot modify a string for a string is __immutable__."
   ]
  },
  {
   "cell_type": "code",
   "execution_count": null,
   "metadata": {
    "tags": [],
    "ExecuteTime": {
     "start_time": "2024-09-04T15:15:39.358466Z"
    }
   },
   "outputs": [],
   "source": [
    "str1 = \"Welcome to CDS-230!\"\n",
    "str2 = \"A class that combines computation with science!\"\n",
    "print(id(str1))"
   ]
  },
  {
   "cell_type": "code",
   "execution_count": null,
   "metadata": {
    "tags": [],
    "ExecuteTime": {
     "start_time": "2024-09-04T15:15:39.360235Z"
    }
   },
   "outputs": [],
   "source": [
    "str1[7] = 'X'"
   ]
  },
  {
   "cell_type": "markdown",
   "metadata": {
    "tags": []
   },
   "source": [
    "You can __update__ an existing string by (re)assigning a variable to another string. "
   ]
  },
  {
   "cell_type": "code",
   "execution_count": null,
   "metadata": {
    "tags": [],
    "ExecuteTime": {
     "start_time": "2024-09-04T15:15:39.362352Z"
    }
   },
   "outputs": [],
   "source": [
    "str1 = str1[0:7] + 'X' + str1[8:] # String concatenation\n",
    "print(str1)\n",
    "print(id(str1))"
   ]
  },
  {
   "cell_type": "code",
   "execution_count": null,
   "metadata": {
    "ExecuteTime": {
     "start_time": "2024-09-04T15:15:39.364477Z"
    }
   },
   "outputs": [],
   "source": [
    "80*'*'"
   ]
  },
  {
   "cell_type": "code",
   "execution_count": null,
   "metadata": {
    "tags": [],
    "ExecuteTime": {
     "start_time": "2024-09-04T15:15:39.365135Z"
    }
   },
   "outputs": [],
   "source": [
    "str1 = str1[0:7]+' '+str1[8:]\n",
    "print(str1)\n",
    "print(id(str1))"
   ]
  },
  {
   "cell_type": "code",
   "execution_count": null,
   "metadata": {
    "tags": [],
    "ExecuteTime": {
     "start_time": "2024-09-04T15:15:39.365884Z"
    }
   },
   "outputs": [],
   "source": [
    "print(str1)\n",
    "print(str2)\n",
    "str3 = str1 + \" \" + str2[0] + \" \" + str2[39:]\n",
    "print(str3)"
   ]
  },
  {
   "cell_type": "code",
   "execution_count": null,
   "metadata": {
    "tags": [],
    "ExecuteTime": {
     "start_time": "2024-09-04T15:15:39.366506Z"
    }
   },
   "outputs": [],
   "source": [
    "print(str1 * 2)\n",
    "print(\"Hello! \" * 5)"
   ]
  },
  {
   "cell_type": "markdown",
   "metadata": {},
   "source": [
    "#### Membership operator: _in_"
   ]
  },
  {
   "cell_type": "code",
   "execution_count": null,
   "metadata": {
    "tags": [],
    "ExecuteTime": {
     "start_time": "2024-09-04T15:15:39.367233Z"
    }
   },
   "outputs": [],
   "source": [
    "print ( \"CDS\" in str1)\n",
    "print ( \"cds\" in str1)\n",
    "print ( \"cds\" not in str1)"
   ]
  },
  {
   "cell_type": "markdown",
   "metadata": {},
   "source": [
    "#### Built-in in String Operators"
   ]
  },
  {
   "cell_type": "code",
   "execution_count": null,
   "metadata": {
    "tags": [],
    "ExecuteTime": {
     "start_time": "2024-09-04T15:15:39.368118Z"
    }
   },
   "outputs": [],
   "source": [
    "'hello'.upper()"
   ]
  },
  {
   "cell_type": "code",
   "execution_count": null,
   "metadata": {
    "tags": [],
    "ExecuteTime": {
     "start_time": "2024-09-04T15:15:39.369199Z"
    }
   },
   "outputs": [],
   "source": [
    "str1 = \"Welcome to CDS-230!\""
   ]
  },
  {
   "cell_type": "code",
   "execution_count": null,
   "metadata": {
    "tags": [],
    "ExecuteTime": {
     "start_time": "2024-09-04T15:15:39.370065Z"
    }
   },
   "outputs": [],
   "source": [
    "print(str1)"
   ]
  },
  {
   "cell_type": "code",
   "execution_count": null,
   "metadata": {
    "tags": [],
    "ExecuteTime": {
     "start_time": "2024-09-04T15:15:39.370713Z"
    }
   },
   "outputs": [],
   "source": [
    "print(len(str1))   # len returns length, useful for all sequences in Python"
   ]
  },
  {
   "cell_type": "code",
   "execution_count": null,
   "metadata": {
    "tags": [],
    "ExecuteTime": {
     "start_time": "2024-09-04T15:15:39.371443Z"
    }
   },
   "outputs": [],
   "source": [
    "print(str1.index(\"o\"))  # returns first occurrence of 'o'\n",
    "print(str1.count(\"o\"))  # returns number of times 'o' occurs"
   ]
  },
  {
   "cell_type": "code",
   "execution_count": null,
   "metadata": {
    "tags": [],
    "ExecuteTime": {
     "start_time": "2024-09-04T15:15:39.372214Z"
    }
   },
   "outputs": [],
   "source": [
    "print(str1.startswith(\"Wel\"))    # returns Boolean\n",
    "print(str1.endswith(\"!\"))"
   ]
  },
  {
   "cell_type": "markdown",
   "metadata": {
    "tags": []
   },
   "source": [
    "## String Formatting\n",
    "\n",
    "### Using __str.format()__ \n",
    "\n",
    "* In this case one uses replacement fields - marked by curly braces - inside the string that is being formatted:"
   ]
  },
  {
   "cell_type": "code",
   "execution_count": null,
   "metadata": {
    "pycharm": {
     "is_executing": true
    },
    "ExecuteTime": {
     "start_time": "2024-09-04T15:15:39.372874Z"
    }
   },
   "outputs": [],
   "source": [
    "x = 3.14\n",
    "print('the value of temperature is :',x)"
   ]
  },
  {
   "cell_type": "code",
   "execution_count": null,
   "metadata": {
    "tags": [],
    "ExecuteTime": {
     "start_time": "2024-09-04T15:15:39.373513Z"
    }
   },
   "outputs": [],
   "source": [
    "str1.format"
   ]
  },
  {
   "cell_type": "code",
   "execution_count": null,
   "metadata": {
    "tags": [],
    "ExecuteTime": {
     "start_time": "2024-09-04T15:15:39.374349Z"
    }
   },
   "outputs": [],
   "source": [
    "name = \"Albert\"\n",
    "age = 76\n",
    "\"Hello, {}. You are {} years old.\".format(age, name)   # {} placeholders"
   ]
  },
  {
   "cell_type": "markdown",
   "metadata": {
    "tags": []
   },
   "source": [
    "You can reference variables in any order by referencing their index:"
   ]
  },
  {
   "cell_type": "code",
   "execution_count": null,
   "metadata": {
    "tags": [],
    "ExecuteTime": {
     "start_time": "2024-09-04T15:15:39.375173Z"
    }
   },
   "outputs": [],
   "source": [
    "\"Hello, {1}. You are {0} years old.\".format(age, name)"
   ]
  },
  {
   "cell_type": "code",
   "execution_count": null,
   "metadata": {
    "tags": [],
    "ExecuteTime": {
     "start_time": "2024-09-04T15:15:39.376831Z"
    }
   },
   "outputs": [],
   "source": [
    "q = 'ps'\n",
    "print(\"{}#1 will be available today \\n{} at 4:30\".format(q.upper(), 'Starting'))"
   ]
  },
  {
   "cell_type": "markdown",
   "metadata": {
    "tags": []
   },
   "source": [
    "### Using f.strings\n",
    "\n",
    "* Also called “formatted string literals,” f-strings are string literals that have an f at the beginning and curly braces containing expressions that will be replaced with their values. \n",
    "\n",
    "Reference: https://www.python.org/dev/peps/pep-0498/#abstract"
   ]
  },
  {
   "cell_type": "code",
   "execution_count": null,
   "metadata": {
    "tags": [],
    "ExecuteTime": {
     "start_time": "2024-09-04T15:15:39.377966Z"
    }
   },
   "outputs": [],
   "source": [
    "f\"Hello, {name}. You are {age}.\""
   ]
  },
  {
   "cell_type": "markdown",
   "metadata": {
    "tags": []
   },
   "source": [
    "#### With f-strings you can do some nifty things - that are impossible with str.format():\n"
   ]
  },
  {
   "cell_type": "code",
   "execution_count": null,
   "metadata": {
    "tags": [],
    "ExecuteTime": {
     "start_time": "2024-09-04T15:15:39.378849Z"
    }
   },
   "outputs": [],
   "source": [
    "# perform operations\n",
    "f\"{2 * 37}\""
   ]
  },
  {
   "cell_type": "code",
   "execution_count": null,
   "metadata": {
    "tags": [],
    "ExecuteTime": {
     "start_time": "2024-09-04T15:15:39.379689Z"
    }
   },
   "outputs": [],
   "source": [
    "# call functions\n",
    "f\"{name.upper()} is smart.\""
   ]
  },
  {
   "cell_type": "markdown",
   "metadata": {},
   "source": [
    "---"
   ]
  },
  {
   "cell_type": "markdown",
   "metadata": {
    "tags": []
   },
   "source": [
    "More parameters can be included within the curly braces of our syntax. Use the format code syntax {field_name:conversion}, where field_name specifies the index number of the argument to the str.format() method, and conversion refers to the conversion code of the data type.\n",
    "\n",
    "```\n",
    "s – strings\n",
    "d – decimal integers (base-10)\n",
    "f – floating point display\n",
    "c – character\n",
    "b – binary\n",
    "o – octal\n",
    "x – hexadecimal with lowercase letters after 9\n",
    "X – hexadecimal with uppercase letters after 9\n",
    "e – exponent notation\n",
    "```"
   ]
  },
  {
   "cell_type": "code",
   "execution_count": null,
   "metadata": {
    "slideshow": {
     "slide_type": "slide"
    },
    "tags": [],
    "ExecuteTime": {
     "start_time": "2024-09-04T15:15:39.380705Z"
    }
   },
   "outputs": [],
   "source": [
    "# Convert base-10 decimal integers  \n",
    "# to floating point numeric constants \n",
    "print (\"This site is {0:f}% securely {1}!!\".format(100, \"encrypted\")) "
   ]
  },
  {
   "cell_type": "code",
   "execution_count": null,
   "metadata": {
    "tags": [],
    "ExecuteTime": {
     "start_time": "2024-09-04T15:15:39.381590Z"
    }
   },
   "outputs": [],
   "source": [
    "# To limit the precision \n",
    "print (\"My average of this {0} was {1:.2f}%\".format(\"semester\", 78.234876)) "
   ]
  },
  {
   "cell_type": "code",
   "execution_count": null,
   "metadata": {
    "tags": [],
    "ExecuteTime": {
     "start_time": "2024-09-04T15:15:39.382659Z"
    }
   },
   "outputs": [],
   "source": [
    "# For no decimal places \n",
    "print (\"My average of this {0} was {1:.0f}%\".format(\"semester\", 78.234876)) "
   ]
  },
  {
   "cell_type": "code",
   "execution_count": null,
   "metadata": {
    "tags": [],
    "ExecuteTime": {
     "start_time": "2024-09-04T15:15:39.383611Z"
    }
   },
   "outputs": [],
   "source": [
    "# Convert an integer to its binary or \n",
    "# with other different converted bases. \n",
    "print(\"The {0} of 100 is {1:b}\".format(\"binary\", 100)) \n",
    "          \n",
    "print(\"The {0} of 100 is {1:o}\".format(\"octal\", 100)) "
   ]
  },
  {
   "cell_type": "markdown",
   "metadata": {
    "tags": []
   },
   "source": [
    "## User input\n",
    "\n",
    "__input()__ can be used to get input directly from a user. It takes a string as an argument and displays it as a prompt in the shell. It then waits for the user to type something, followed by hitting the enter key. The line typed by the user is treated as a string and becomes the value returned by the function."
   ]
  },
  {
   "cell_type": "code",
   "execution_count": null,
   "metadata": {
    "tags": [],
    "ExecuteTime": {
     "start_time": "2024-09-04T15:15:39.384988Z"
    }
   },
   "outputs": [],
   "source": [
    "name = input('Enter your name: ')  \n",
    "print(f'My name is {name}')"
   ]
  },
  {
   "cell_type": "code",
   "execution_count": null,
   "metadata": {
    "tags": [],
    "ExecuteTime": {
     "start_time": "2024-09-04T15:15:39.386797Z"
    }
   },
   "outputs": [],
   "source": [
    "x = input('Enter a number: ')  # Careful: x will be a string\n",
    "print(x, ' is of type ',type (x))"
   ]
  },
  {
   "cell_type": "markdown",
   "metadata": {
    "tags": []
   },
   "source": [
    "#### Solution: use type casting\n",
    "\n",
    "```python\n",
    "a = int(input())  # a is int\n",
    "x = float(input())  # x is float\n",
    "```"
   ]
  },
  {
   "cell_type": "markdown",
   "metadata": {},
   "source": [
    "---"
   ]
  },
  {
   "cell_type": "markdown",
   "metadata": {
    "tags": []
   },
   "source": [
    "## Type Conversion"
   ]
  },
  {
   "cell_type": "code",
   "execution_count": null,
   "metadata": {
    "tags": [],
    "ExecuteTime": {
     "start_time": "2024-09-04T15:15:39.387678Z"
    }
   },
   "outputs": [],
   "source": [
    "x = 2.7\n",
    "print(type(x))\n",
    "\n",
    "v1 = int(x) # int() constructor - creates integer object\n",
    "print(v1, type(v1)) "
   ]
  },
  {
   "cell_type": "code",
   "execution_count": null,
   "metadata": {
    "tags": [],
    "ExecuteTime": {
     "start_time": "2024-09-04T15:15:39.388932Z"
    }
   },
   "outputs": [],
   "source": [
    "v2 = float(2)        # 2.0\n",
    "print(v2, type(v2)) "
   ]
  },
  {
   "cell_type": "markdown",
   "metadata": {
    "tags": []
   },
   "source": [
    "What will happen here?\n",
    "```python\n",
    "float(\"2.7\")\n",
    "float(True)\n",
    "```"
   ]
  },
  {
   "cell_type": "code",
   "execution_count": 67,
   "metadata": {
    "tags": [],
    "ExecuteTime": {
     "end_time": "2024-09-04T15:15:40.893614Z",
     "start_time": "2024-09-04T15:15:39.389937Z"
    }
   },
   "outputs": [
    {
     "data": {
      "text/plain": "2.7"
     },
     "execution_count": 67,
     "metadata": {},
     "output_type": "execute_result"
    }
   ],
   "source": [
    "float(\"2.7\")"
   ]
  },
  {
   "cell_type": "code",
   "execution_count": 68,
   "metadata": {
    "tags": [],
    "ExecuteTime": {
     "end_time": "2024-09-04T15:15:40.893900Z",
     "start_time": "2024-09-04T15:15:39.391586Z"
    }
   },
   "outputs": [
    {
     "data": {
      "text/plain": "1"
     },
     "execution_count": 68,
     "metadata": {},
     "output_type": "execute_result"
    }
   ],
   "source": [
    "int(True)"
   ]
  },
  {
   "cell_type": "code",
   "execution_count": 69,
   "metadata": {
    "tags": [],
    "ExecuteTime": {
     "end_time": "2024-09-04T15:15:40.893987Z",
     "start_time": "2024-09-04T15:15:39.393076Z"
    }
   },
   "outputs": [
    {
     "name": "stdout",
     "output_type": "stream",
     "text": [
      "<class 'float'>\n",
      "<class 'str'>\n"
     ]
    }
   ],
   "source": [
    "pi = 3.1415\n",
    "print(type(pi))  # float\n",
    "pi2str = str(pi)  # float -> str\n",
    "print(type(pi2str))  # str"
   ]
  },
  {
   "cell_type": "code",
   "execution_count": 70,
   "metadata": {
    "tags": [],
    "ExecuteTime": {
     "end_time": "2024-09-04T15:15:40.894069Z",
     "start_time": "2024-09-04T15:15:39.395325Z"
    }
   },
   "outputs": [
    {
     "name": "stdout",
     "output_type": "stream",
     "text": [
      "float1 =  6.1 \n",
      "\n"
     ]
    }
   ],
   "source": [
    "int1 = 4\n",
    "float1 = int1 + 2.1 # int1 converted to float\n",
    "print(\"float1 = \", float1, \"\\n\")"
   ]
  },
  {
   "cell_type": "code",
   "execution_count": 71,
   "metadata": {
    "tags": [],
    "ExecuteTime": {
     "start_time": "2024-09-04T15:15:39.397500Z"
    }
   },
   "outputs": [
    {
     "ename": "TypeError",
     "evalue": "can only concatenate str (not \"int\") to str",
     "output_type": "error",
     "traceback": [
      "\u001B[0;31m---------------------------------------------------------------------------\u001B[0m",
      "\u001B[0;31mTypeError\u001B[0m                                 Traceback (most recent call last)",
      "Input \u001B[0;32mIn [71]\u001B[0m, in \u001B[0;36m<cell line: 1>\u001B[0;34m()\u001B[0m\n\u001B[0;32m----> 1\u001B[0m str1 \u001B[38;5;241m=\u001B[39m \u001B[38;5;124;43m\"\u001B[39;49m\u001B[38;5;124;43mMy int:\u001B[39;49m\u001B[38;5;124;43m\"\u001B[39;49m\u001B[43m \u001B[49m\u001B[38;5;241;43m+\u001B[39;49m\u001B[43m \u001B[49m\u001B[43mint1\u001B[49m\n",
      "\u001B[0;31mTypeError\u001B[0m: can only concatenate str (not \"int\") to str"
     ]
    }
   ],
   "source": [
    "str1 = \"My int:\" + int1 # Error: no implicit type conversion from int to string"
   ]
  },
  {
   "cell_type": "code",
   "execution_count": null,
   "metadata": {
    "tags": [],
    "ExecuteTime": {
     "start_time": "2024-09-04T15:15:39.400376Z"
    }
   },
   "outputs": [],
   "source": [
    "str1 = \"My int:\" + str(int1)\n",
    "print(\"str1  = \", str1, \"\\n\")"
   ]
  },
  {
   "cell_type": "markdown",
   "metadata": {
    "slideshow": {
     "slide_type": "slide"
    },
    "tags": []
   },
   "source": [
    "### Coding Style\n",
    "\n",
    "---\n",
    "\n",
    "The Python Style Guide tells you the best way to perform imports, name functions, and overall coding advice. It used to be called PEP8 (Python Enhancement Proposal 8), but in 2016, it was renamed to pycodestyle.\n",
    "\n",
    "* [PEP8](http://www.python.org/dev/peps/pep-0008/)\n",
    "* [pycodestyle](http://github.com/PyCQA/pycodestyle)\n",
    "* [pep8](http://pep8.readthedocs.io/en/release-1.7.x/) - a Python package that checks your code for you.\n",
    "* [pep8.org](http://pep8.org/) - a more human friendly approach"
   ]
  },
  {
   "cell_type": "markdown",
   "metadata": {
    "tags": []
   },
   "source": [
    "### Reading Assignment"
   ]
  },
  {
   "cell_type": "markdown",
   "metadata": {
    "tags": []
   },
   "source": [
    "<b> Escape Sequences in Strings </b>"
   ]
  },
  {
   "cell_type": "code",
   "execution_count": 72,
   "metadata": {
    "ExecuteTime": {
     "end_time": "2024-09-04T15:15:40.914839Z",
     "start_time": "2024-09-04T15:15:39.420032Z"
    }
   },
   "outputs": [
    {
     "name": "stdout",
     "output_type": "stream",
     "text": [
      "This string contains a single quote ('* character.\n"
     ]
    }
   ],
   "source": [
    "print('This string contains a single quote (\\'* character.')"
   ]
  },
  {
   "cell_type": "code",
   "execution_count": 73,
   "metadata": {
    "ExecuteTime": {
     "end_time": "2024-09-04T15:15:40.915165Z",
     "start_time": "2024-09-04T15:15:39.423613Z"
    }
   },
   "outputs": [
    {
     "name": "stdout",
     "output_type": "stream",
     "text": [
      "This string contains a double quote (\") character.\n"
     ]
    }
   ],
   "source": [
    "print(\"This string contains a double quote (\\\") character.\")"
   ]
  },
  {
   "cell_type": "code",
   "execution_count": 74,
   "metadata": {
    "ExecuteTime": {
     "end_time": "2024-09-04T15:15:40.915319Z",
     "start_time": "2024-09-04T15:15:39.425909Z"
    }
   },
   "outputs": [
    {
     "name": "stdout",
     "output_type": "stream",
     "text": [
      "abc\n",
      "abc\n"
     ]
    }
   ],
   "source": [
    "print('abc')\n",
    "print('a\\\n",
    "b\\\n",
    "c')"
   ]
  },
  {
   "cell_type": "code",
   "execution_count": 75,
   "metadata": {
    "ExecuteTime": {
     "end_time": "2024-09-04T15:15:40.915442Z",
     "start_time": "2024-09-04T15:15:39.428926Z"
    }
   },
   "outputs": [
    {
     "name": "stdout",
     "output_type": "stream",
     "text": [
      "1 \n",
      " 2\n"
     ]
    }
   ],
   "source": [
    "print('1 \\n 2')\n"
   ]
  },
  {
   "cell_type": "markdown",
   "metadata": {
    "tags": []
   },
   "source": [
    "#### Applying Special Meaning to Characters"
   ]
  },
  {
   "cell_type": "markdown",
   "metadata": {
    "tags": []
   },
   "source": [
    "We want to represent escape sequences that are typically used to insert characters that are not readily generated from the keyboard or are not easily readable or printable.\n",
    "<P>\n",
    "Here is a list of escape sequences that cause Python to apply special meaning instead of interpreting literally:\n",
    "\n",
    "| Escape Sequence| “Escaped” Interpretation |\n",
    "| --- | --- |\n",
    "| \\a\t| ASCII Bell (BEL) character\n",
    "| \\b\t| ASCII Backspace (BS) character\n",
    "| \\f\t| ASCII Formfeed (FF) character\n",
    "| \\n\t| ASCII Linefeed (LF) character\n",
    "| \\N{<name>}| \tCharacter from Unicode database with given <name>\n",
    "| \\r\t| ASCII Carriage Return (CR) character\n",
    "| \\t\t| ASCII Horizontal Tab (TAB) character\n",
    "| \\uxxxx\t| Unicode character with 16-bit hex value xxxx\n",
    "| \\Uxxxxxxxx\t| Unicode character with 32-bit hex value xxxxxxxx\n",
    "| \\v\t| ASCII Vertical Tab (VT) character\n",
    "| \\ooo\t| Character with octal value ooo\n",
    "| \\xhh\t| Character with hex value hh\n",
    "    \n",
    "[ASCII](https://www.wikiwand.com/en/ASCII) stands for American Standard Code for Information Interchange.\\\n",
    "[Unicode standard](http://www.unicode.org/) defines values for over 128,000 characters."
   ]
  },
  {
   "cell_type": "code",
   "execution_count": 76,
   "metadata": {
    "ExecuteTime": {
     "end_time": "2024-09-04T15:15:40.926672Z",
     "start_time": "2024-09-04T15:15:39.448755Z"
    }
   },
   "outputs": [
    {
     "name": "stdout",
     "output_type": "stream",
     "text": [
      "Start\t-\t-\tEnd\n"
     ]
    }
   ],
   "source": [
    "print(\"Start\\t-\\t-\\tEnd\")"
   ]
  },
  {
   "cell_type": "code",
   "execution_count": 77,
   "metadata": {
    "ExecuteTime": {
     "end_time": "2024-09-04T15:15:40.926931Z",
     "start_time": "2024-09-04T15:15:39.451705Z"
    }
   },
   "outputs": [
    {
     "name": "stdout",
     "output_type": "stream",
     "text": [
      "a a\n"
     ]
    }
   ],
   "source": [
    "print(\"\\141\", \"\\x61\")   # ASCII values"
   ]
  },
  {
   "cell_type": "code",
   "execution_count": 78,
   "metadata": {
    "ExecuteTime": {
     "end_time": "2024-09-04T15:15:40.931522Z",
     "start_time": "2024-09-04T15:15:39.454537Z"
    }
   },
   "outputs": [
    {
     "name": "stdout",
     "output_type": "stream",
     "text": [
      "a\n",
      "\tb \n"
     ]
    }
   ],
   "source": [
    "print(\"a\\n\\tb \")"
   ]
  },
  {
   "cell_type": "code",
   "execution_count": 79,
   "metadata": {
    "ExecuteTime": {
     "end_time": "2024-09-04T15:15:40.931982Z",
     "start_time": "2024-09-04T15:15:39.458927Z"
    }
   },
   "outputs": [
    {
     "name": "stdout",
     "output_type": "stream",
     "text": [
      "→ →\n"
     ]
    }
   ],
   "source": [
    "print('\\u2192 \\N{rightwards arrow}')  # Unicode"
   ]
  },
  {
   "cell_type": "markdown",
   "metadata": {
    "tags": []
   },
   "source": [
    "#### Raw Strings"
   ]
  },
  {
   "cell_type": "markdown",
   "metadata": {
    "tags": []
   },
   "source": [
    "- A raw string literal is preceded by r or R, which specifies that escape sequences in the associated string are not translated. \n",
    "- The backslash character is left in the string."
   ]
  },
  {
   "cell_type": "code",
   "execution_count": 80,
   "metadata": {
    "pycharm": {
     "is_executing": true
    },
    "ExecuteTime": {
     "end_time": "2024-09-04T15:15:40.947951Z",
     "start_time": "2024-09-04T15:15:39.477166Z"
    }
   },
   "outputs": [
    {
     "name": "stdout",
     "output_type": "stream",
     "text": [
      "foo\n",
      "bar\n"
     ]
    }
   ],
   "source": [
    "print('foo\\nbar')"
   ]
  },
  {
   "cell_type": "code",
   "execution_count": 81,
   "metadata": {
    "ExecuteTime": {
     "end_time": "2024-09-04T15:15:40.948189Z",
     "start_time": "2024-09-04T15:15:39.479318Z"
    }
   },
   "outputs": [
    {
     "name": "stdout",
     "output_type": "stream",
     "text": [
      "foo\\nbar\n"
     ]
    }
   ],
   "source": [
    "print(r'foo\\nbar')"
   ]
  },
  {
   "cell_type": "code",
   "execution_count": 82,
   "metadata": {
    "ExecuteTime": {
     "end_time": "2024-09-04T15:15:40.948324Z",
     "start_time": "2024-09-04T15:15:39.481849Z"
    }
   },
   "outputs": [
    {
     "name": "stdout",
     "output_type": "stream",
     "text": [
      "foo\\bar\n"
     ]
    }
   ],
   "source": [
    "print('foo\\\\bar')"
   ]
  },
  {
   "cell_type": "code",
   "execution_count": 83,
   "metadata": {
    "ExecuteTime": {
     "end_time": "2024-09-04T15:15:40.948453Z",
     "start_time": "2024-09-04T15:15:39.484146Z"
    }
   },
   "outputs": [
    {
     "name": "stdout",
     "output_type": "stream",
     "text": [
      "foo\\\\bar\n"
     ]
    }
   ],
   "source": [
    "print(R'foo\\\\bar')"
   ]
  },
  {
   "cell_type": "markdown",
   "metadata": {
    "tags": []
   },
   "source": [
    "---"
   ]
  },
  {
   "cell_type": "markdown",
   "metadata": {
    "tags": []
   },
   "source": [
    "### More on data types\n",
    "\n",
    "When a programmer creates data in code, whether it's a constant or a variable, some programming languages need to know what \"type\" of data it is. For example, if you set a variable to 13, a computer doesn't know whether you mean for it to be used as a word (\"thirteen\") or as an integer (as in 13+12=25 or 13-1=12). This is why many  languages require programmers to declare data before it's used.\n",
    "\n",
    "Python is clever, though, and it uses the \"duck test\": if a variable walks like a duck and talks like a duck, then it is a duck. In other words, Applied to computer science, that means Python examines data to determine its type. Python knows that integers are used for math and words are used in communication, so the programmer doesn't have to explain to Python how to use the data it finds in variables. Python uses duck typing to figure it out on its own, and does not attempt to do math on strings or print the contents of arrays (without iteration), and so on.\n",
    "\n",
    "What is really a type?\n",
    "\n",
    "In a computer program, objects and other items are stored in memory, and they are generally referred to by some \"variable name.\" So, when you create an object of a particular class (in any of the popular programming languages), you are basically reserving a portion of memory for that object to occupy, and then you refer to this object with that variable name.\n",
    "\n",
    "So, as an analogy, you can think of this space in memory as a kind of container or box. For this exercise, let's call it a box. So now we have two things with us—an object and a box which contains it.\n",
    "\n",
    "To take the argument further, typically, a box must be \"designed\" to be able to hold the object that it contains (i.e., a box meant for holding matches won't be ideal for holding shoes, or vice versa, even though it's physically possible). So, we can agree that the object and the box which contains it must both be of a similar type? \n",
    "\n",
    "This, in fact, is the so-called \"static typing.\" Basically, it means that not only the object must have a \"type,\" but the variable name (a.k.a. the box) must have one as well, and it should be the same or similar. (I will explain why I say \"similar\" in a moment). This is why, in statically typed languages like Java/ C++, you need to define the type of the variable when you create it. In fact, you can create a variable name analogous to a box, even without creating any object to put in it. You can't do this in Python.\n",
    "\n",
    "However, a dynamically typed language like Python works differently. Here you can think of the variable name, not like a box but rather analogous to a \"tag\" (somewhat like a price tag in a store). So, the tag does not have a type. Rather, if you ask the tag what its type is, it would probably pick the object it is tagged to at that moment. Why I say \"at that moment\" is because, just like in the real world, a tag attached to a shoe could also be attached to some other item at a different time. So the Python interpreter does not assign any type to a variable name, per se. But if you ask a variable name its type, then it will give you the type of the object it is currently tied to. This is dynamic typing.\n",
    "\n",
    "This dynamic vs. static typing has a direct impact on the way you write code. Just like in the real world where you can't put shoes in a box meant for matches, so it also goes in statically typed languages—you generally cannot put objects of one type in a variable name created for objects of another type.\n",
    "\n"
   ]
  },
  {
   "cell_type": "markdown",
   "metadata": {
    "tags": []
   },
   "source": [
    "### Dynamic vs static typing\n",
    "\n",
    "There is another important concept to address here, namely, strongly and weakly typed languages. The \"strength\" of typing has virtually nothing to do with whether it is dynamically or statically typed. It has more to do with \"casting\" or the ability to convert one type of object to another. Contrary to popular perception, Python is a rather strongly typed language, just like C++ or Java. So in Python, for example, you can't add, say, an \"integer\" to a \"string,\" however, you can do this in a language like JavaScript. JavaScript, in fact, is one of the notoriously \"weakly typed\" languages. So, it should be clear that strong/weak typing is an altogether different scale than static/dynamic typing. In general, scripted languages like Python tend to be dynamically typed, while compiled languages tend to be statically typed."
   ]
  },
  {
   "cell_type": "code",
   "execution_count": 83,
   "metadata": {
    "ExecuteTime": {
     "end_time": "2024-09-04T15:15:40.951325Z",
     "start_time": "2024-09-04T15:15:39.518540Z"
    }
   },
   "outputs": [],
   "source": []
  }
 ],
 "metadata": {
  "anaconda-cloud": {},
  "kernelspec": {
   "display_name": "Python 3 (ipykernel)",
   "language": "python",
   "name": "python3"
  },
  "language_info": {
   "codemirror_mode": {
    "name": "ipython",
    "version": 3
   },
   "file_extension": ".py",
   "mimetype": "text/x-python",
   "name": "python",
   "nbconvert_exporter": "python",
   "pygments_lexer": "ipython3",
   "version": "3.9.12"
  }
 },
 "nbformat": 4,
 "nbformat_minor": 4
}
