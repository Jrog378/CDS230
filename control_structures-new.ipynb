{
 "cells": [
  {
   "cell_type": "code",
   "execution_count": null,
   "metadata": {
    "slideshow": {
     "slide_type": "skip"
    },
    "tags": []
   },
   "outputs": [],
   "source": [
    "from IPython.display import Image"
   ]
  },
  {
   "cell_type": "markdown",
   "metadata": {},
   "source": [
    "## Review"
   ]
  },
  {
   "cell_type": "markdown",
   "metadata": {
    "tags": []
   },
   "source": [
    "### Logical operators"
   ]
  },
  {
   "cell_type": "markdown",
   "metadata": {
    "tags": []
   },
   "source": [
    "```python\n",
    "and           \n",
    "or\n",
    "not\n",
    "```\n",
    "\n",
    "| A | B | A and B | A or B | not A| not B|\n",
    "|:---:|:---:|:---:|:---:|:---:|:---:|\n",
    "| T | T | T | T |  F | T |\n",
    "| T | F | F | T |  F | T |\n",
    "| F | T | F | T |  T | F |\n",
    "| F | F | F | F |  T | F |\n",
    "\n",
    "Logical expression evaluate to either <font color='blue'>True</font> or <font color='blue'>False</font>. \n"
   ]
  },
  {
   "cell_type": "code",
   "execution_count": null,
   "metadata": {
    "tags": []
   },
   "outputs": [],
   "source": [
    "print(True or False)\n",
    "print(not True)\n",
    "print(True and not False)"
   ]
  },
  {
   "cell_type": "markdown",
   "metadata": {
    "tags": []
   },
   "source": [
    "### Comparison operators"
   ]
  },
  {
   "cell_type": "markdown",
   "metadata": {
    "tags": []
   },
   "source": [
    "The comparison operators are \n",
    "\n",
    "* == (equal)\n",
    "* != (notequal)\n",
    "* \\> (greater)\n",
    "* \\>= (at least)\n",
    "* < (less) \n",
    "* <= (at most)\n",
    "\n",
    "Output of operations with comparison operators evaluate to a __bool__ type:\n"
   ]
  },
  {
   "cell_type": "code",
   "execution_count": null,
   "metadata": {
    "slideshow": {
     "slide_type": "fragment"
    },
    "tags": []
   },
   "outputs": [],
   "source": [
    "x = 4\n",
    "print(type(x<4))"
   ]
  },
  {
   "cell_type": "markdown",
   "metadata": {
    "slideshow": {
     "slide_type": "slide"
    },
    "tags": []
   },
   "source": [
    "__Membership operators__\n",
    "```python\n",
    "in\n",
    "not in\n",
    "```\n",
    "__Identity operators__\n",
    "```python\n",
    "is\n",
    "is not\n",
    "```"
   ]
  },
  {
   "cell_type": "code",
   "execution_count": null,
   "metadata": {
    "slideshow": {
     "slide_type": "fragment"
    },
    "tags": []
   },
   "outputs": [],
   "source": [
    "'d' in 'Python'"
   ]
  },
  {
   "cell_type": "code",
   "execution_count": null,
   "metadata": {
    "tags": []
   },
   "outputs": [],
   "source": [
    "type(2) is int"
   ]
  },
  {
   "cell_type": "code",
   "execution_count": null,
   "metadata": {
    "slideshow": {
     "slide_type": "fragment"
    },
    "tags": []
   },
   "outputs": [],
   "source": [
    "x = 5\n",
    "type(x) is not str"
   ]
  },
  {
   "cell_type": "markdown",
   "metadata": {
    "slideshow": {
     "slide_type": "slide"
    },
    "tags": []
   },
   "source": [
    "__Operator precedence__ (left-to-right)\n",
    "\n",
    "    ** (exponentiation)\n",
    "    *, /, %   (multiplication, division, modulo)\n",
    "    +, -   (addition, subtraction)\n",
    "    <, >, <=, >=, !=, == (comparison)\n",
    "    <<, >>, & , ^, | (bitwise)\n",
    "    is, is not  (comparison)\n",
    "    in, not in  (comparison)\n",
    "    not, and, or  (boolean)"
   ]
  },
  {
   "cell_type": "code",
   "execution_count": null,
   "metadata": {
    "slideshow": {
     "slide_type": "fragment"
    },
    "tags": []
   },
   "outputs": [],
   "source": [
    "(10 < 0) and not 10 > 2"
   ]
  },
  {
   "cell_type": "code",
   "execution_count": null,
   "metadata": {
    "slideshow": {
     "slide_type": "fragment"
    },
    "tags": []
   },
   "outputs": [],
   "source": [
    "not (10 < 0 or 10 > 20)"
   ]
  },
  {
   "cell_type": "markdown",
   "metadata": {
    "slideshow": {
     "slide_type": "slide"
    },
    "tags": []
   },
   "source": [
    "__In Python every object has a boolean value__."
   ]
  },
  {
   "cell_type": "code",
   "execution_count": null,
   "metadata": {
    "slideshow": {
     "slide_type": "fragment"
    },
    "tags": []
   },
   "outputs": [],
   "source": [
    "print(f' \"Hello\" evaluates to { bool(\"Hello\") }')\n",
    "print(f' \"\" evaluates to { bool(\"\") }')\n",
    "print(f' \"test\" and \"test\" evaluates to { bool(\"test\" and \"test\") }')\n",
    "print(f' 2022 evaluates to { bool(2022) }')\n",
    "print(f' 0 evaluates to { bool(0) }')"
   ]
  },
  {
   "cell_type": "code",
   "execution_count": null,
   "metadata": {},
   "outputs": [],
   "source": [
    "len(\" \")"
   ]
  },
  {
   "cell_type": "markdown",
   "metadata": {
    "slideshow": {
     "slide_type": "fragment"
    },
    "tags": []
   },
   "source": [
    "Note: \n",
    "\n",
    "* All integers evaluate to True, except 0 which evaluates to Fals\n",
    "* All strings evaluate to True, except the empty string"
   ]
  },
  {
   "cell_type": "markdown",
   "metadata": {},
   "source": [
    "# Conditionals and Loops\n",
    "\n",
    "Conditionals and loops control the flow of a program. They are essential to performing virtually any significant computational task. Python, like most computer languages, provides a variety of ways of implementing loops and conditionals."
   ]
  },
  {
   "cell_type": "code",
   "execution_count": null,
   "metadata": {
    "tags": []
   },
   "outputs": [],
   "source": [
    "Image(url='https://media.blogto.com/articles/2018427-pedestrianintersections-lead.jpg?w=2048&cmd=resize_then_crop&height=1365&quality=70')"
   ]
  },
  {
   "cell_type": "code",
   "execution_count": null,
   "metadata": {
    "tags": []
   },
   "outputs": [],
   "source": [
    "Image(url='https://www.buildforce.ca/sites/default/files/inline-images/shutterstock_1073804261-7x5-100dpi.jpg')"
   ]
  },
  {
   "cell_type": "markdown",
   "metadata": {},
   "source": [
    "---"
   ]
  },
  {
   "cell_type": "markdown",
   "metadata": {
    "slideshow": {
     "slide_type": "slide"
    }
   },
   "source": [
    "# Control Structures"
   ]
  },
  {
   "cell_type": "markdown",
   "metadata": {
    "slideshow": {
     "slide_type": "subslide"
    },
    "tags": []
   },
   "source": [
    "Programs are more useful if we have some mechanism to manage __how__ and __when__ instructions are executed.\n",
    "\n",
    "Python has three __control__ structures:\n",
    "\n",
    "* sequence <<< linear\n",
    "* selection <<< conditionals\n",
    "* repetition <<< loops\n",
    "\n"
   ]
  },
  {
   "cell_type": "code",
   "execution_count": null,
   "metadata": {},
   "outputs": [],
   "source": [
    "a = 1\n",
    "b = 2\n",
    "print(\"a is less than b\")"
   ]
  },
  {
   "cell_type": "markdown",
   "metadata": {
    "tags": []
   },
   "source": [
    "## Selection (Branching)\n",
    "\n",
    "The selection structure is also called a __decision__ structure is based on the result of evaluating a logical  __condition__ \n",
    "\n",
    "Python implements the selection or decision using the __if-clause__ control structure."
   ]
  },
  {
   "cell_type": "markdown",
   "metadata": {
    "slideshow": {
     "slide_type": "slide"
    },
    "tags": []
   },
   "source": [
    "The if statement is a __selection control statement__ based on the value of a logical expression."
   ]
  },
  {
   "cell_type": "markdown",
   "metadata": {
    "slideshow": {
     "slide_type": "slide"
    },
    "tags": []
   },
   "source": [
    "Unary selection\n",
    "\n",
    "```bash\n",
    "if condition:                                      # Header\n",
    "    Python code that runs iff condition is True    # Body is indented  \n",
    "    Here, proper indentation is critical           #      \n",
    "```"
   ]
  },
  {
   "cell_type": "code",
   "execution_count": null,
   "metadata": {
    "tags": []
   },
   "outputs": [],
   "source": [
    "a = 11\n",
    "if a % 2 == 0:  # condition is checked here\n",
    "    print ('a is an even number')  # Note the indentation!!!\n",
    "\n",
    "print('print statement is outside block')"
   ]
  },
  {
   "cell_type": "markdown",
   "metadata": {
    "slideshow": {
     "slide_type": "slide"
    },
    "tags": []
   },
   "source": [
    "Binary selection\n",
    "\n",
    "```bash\n",
    "if condition:\n",
    "    Python code that runs iff condition is True \n",
    "else:\n",
    "    Python code that runs iff condition is False \n",
    "    ...again, indentation is important\n",
    "```"
   ]
  },
  {
   "cell_type": "code",
   "execution_count": null,
   "metadata": {},
   "outputs": [],
   "source": [
    "a = int(input('Enter a: '))\n",
    "b = int(input('Enter b: '))\n",
    "print(\"a is less than b\")\n",
    "print(\"a is NOT less than b\")"
   ]
  },
  {
   "cell_type": "code",
   "execution_count": null,
   "metadata": {
    "jupyter": {
     "source_hidden": true
    },
    "tags": []
   },
   "outputs": [],
   "source": [
    "a = int(input('Enter a number: '))\n",
    "\n",
    "if a % 2 == 0:\n",
    "    print (\"Number is even\")\n",
    "else:\n",
    "    print (\"Number is odd\")\n",
    "    \n",
    "print (\"Done\")  # note indentation!"
   ]
  },
  {
   "cell_type": "markdown",
   "metadata": {
    "slideshow": {
     "slide_type": "slide"
    },
    "tags": []
   },
   "source": [
    "#### Chained if statements"
   ]
  },
  {
   "cell_type": "markdown",
   "metadata": {
    "slideshow": {
     "slide_type": "fragment"
    },
    "tags": []
   },
   "source": [
    "```bash\n",
    "if condition1:\n",
    "    Python code that runs iff condition1 is True \n",
    "elif condition2:\n",
    "    Python code that runs iff condition2 is True\n",
    "elif condition3:\n",
    "    Python code that runs iff condition3 is True\n",
    "else:\n",
    "    Python code that runs iff conditions 1-3 are False\n",
    "```"
   ]
  },
  {
   "cell_type": "code",
   "execution_count": null,
   "metadata": {
    "slideshow": {
     "slide_type": "fragment"
    },
    "tags": []
   },
   "outputs": [],
   "source": [
    "# Example\n",
    "\n",
    "n = int(input('Enter a number on interval [1,3]: '))\n",
    "\n",
    "if n == 1:\n",
    "    print ('Light is red')\n",
    "elif n == 2:\n",
    "    print ('Light is yellow')\n",
    "elif n == 3:\n",
    "    print ('Light is green')\n",
    "else:\n",
    "    print ('Error!')"
   ]
  },
  {
   "cell_type": "markdown",
   "metadata": {
    "slideshow": {
     "slide_type": "slide"
    },
    "tags": []
   },
   "source": [
    "Nested if statements\n",
    "```bash\n",
    "if condition1:\n",
    "    Python code that runs iff condition1 is True\n",
    "else:\n",
    "    Python code that runs iff condition1 is False\n",
    "    if condition2:\n",
    "        Python code that runs iff condition2 is True\n",
    "    else:\n",
    "        Python code that runs iff condition2 is False\n",
    "```"
   ]
  },
  {
   "cell_type": "code",
   "execution_count": null,
   "metadata": {
    "slideshow": {
     "slide_type": "fragment"
    },
    "tags": []
   },
   "outputs": [],
   "source": [
    "n = int(input('Enter a number: '))\n",
    "\n",
    "if n > 0:\n",
    "    print ('n is positive')\n",
    "    if n % 2 == 0:\n",
    "        print ('...and also even')\n",
    "    else:\n",
    "        print ('...and also odd')\n",
    "else:\n",
    "    if n == 0:\n",
    "        print ('n is zero')\n",
    "    else:\n",
    "        print ('n is negative')"
   ]
  },
  {
   "cell_type": "markdown",
   "metadata": {
    "tags": []
   },
   "source": [
    "#### Quadratic equation"
   ]
  },
  {
   "cell_type": "code",
   "execution_count": null,
   "metadata": {
    "tags": []
   },
   "outputs": [],
   "source": [
    "a, b, c = 2, 1, 2   # pythonic\n",
    "\n",
    "from cmath import sqrt \n",
    "D = b**2 - 4*a*c\n",
    "\n",
    "print(D)\n",
    "\n",
    "x1 = -b + sqrt(D)/(2*a)\n",
    "x2 = -b - sqrt(D)/(2*a)\n",
    "    \n",
    "print(f'The solutions are {x1:.4f} and {x2:.4f}')"
   ]
  },
  {
   "cell_type": "markdown",
   "metadata": {},
   "source": [
    "---"
   ]
  },
  {
   "cell_type": "markdown",
   "metadata": {
    "tags": []
   },
   "source": [
    "## Repetition (Iteration)\n",
    "\n",
    "Python provides two repetition constructs: __while__ loop and __for__ loop."
   ]
  },
  {
   "cell_type": "markdown",
   "metadata": {
    "slideshow": {
     "slide_type": "slide"
    },
    "tags": []
   },
   "source": [
    "### While loop\n",
    "A while loop is similar to an if statement: it repeats an operation __while__ a condition is true. "
   ]
  },
  {
   "cell_type": "markdown",
   "metadata": {
    "slideshow": {
     "slide_type": "fragment"
    },
    "tags": []
   },
   "source": [
    "```bash\n",
    "while condition:                                   # Header\n",
    "    Python code that runs iff condition is True    # Body is indented\n",
    "    Proper indentation is critical                 #\n",
    "```"
   ]
  },
  {
   "cell_type": "markdown",
   "metadata": {
    "slideshow": {
     "slide_type": "fragment"
    },
    "tags": []
   },
   "source": [
    "While loop starts when condition is True and runs until condition becomes False.\n",
    "\n",
    "This means condition must change to False in BODY of the loop.\n",
    "\n",
    "We refer to the process of going through a loop as an __iteration__"
   ]
  },
  {
   "cell_type": "code",
   "execution_count": null,
   "metadata": {
    "tags": []
   },
   "outputs": [],
   "source": [
    "a = 10\n",
    "while a > 10:\n",
    "    print(\"Condition is True!\")  # Nothing prevents this loop from iterating forever!"
   ]
  },
  {
   "cell_type": "markdown",
   "metadata": {
    "tags": []
   },
   "source": [
    "Many programming tasks require you to calculate the total of a series of numbers or the number of times you iterate through a loop\n",
    "\n",
    "Use __accumulator__ variables"
   ]
  },
  {
   "cell_type": "code",
   "execution_count": 1,
   "metadata": {
    "slideshow": {
     "slide_type": "fragment"
    },
    "tags": [],
    "ExecuteTime": {
     "end_time": "2024-09-11T15:26:01.353142Z",
     "start_time": "2024-09-11T15:26:01.347467Z"
    }
   },
   "outputs": [],
   "source": [
    "my_sum = 0\n",
    "counter = 1\n",
    "n = 5\n",
    "prod = 2"
   ]
  },
  {
   "cell_type": "code",
   "execution_count": 2,
   "metadata": {
    "tags": [],
    "ExecuteTime": {
     "end_time": "2024-09-11T15:26:02.739204Z",
     "start_time": "2024-09-11T15:26:02.727978Z"
    }
   },
   "outputs": [
    {
     "name": "stdout",
     "output_type": "stream",
     "text": [
      "1,2,3,4,5,\n",
      "sum =  5\n",
      "\n",
      "prod =  4294967296\n"
     ]
    }
   ],
   "source": [
    "while counter <= n:\n",
    "    print (f'{counter}', end=',') # end='' suppresses the newline character '\\n'\n",
    "    my_sum += 1     #= my_sum + 1             \n",
    "    counter += 1     # can also use: counter += 1 <- augmented assignment \n",
    "    prod **= 2 # prod = prod*2\n",
    "\n",
    "print ('\\nsum = ',my_sum)\n",
    "print ('\\nprod = ',prod)"
   ]
  },
  {
   "cell_type": "code",
   "execution_count": 3,
   "metadata": {
    "ExecuteTime": {
     "end_time": "2024-09-11T15:26:05.124684Z",
     "start_time": "2024-09-11T15:26:05.082632Z"
    }
   },
   "outputs": [
    {
     "name": "stdout",
     "output_type": "stream",
     "text": [
      "6\n"
     ]
    }
   ],
   "source": [
    "print(counter)"
   ]
  },
  {
   "cell_type": "markdown",
   "metadata": {
    "tags": []
   },
   "source": [
    "#### Important concept: my_sum is called an <font color='red'>accumulator</font>"
   ]
  },
  {
   "cell_type": "markdown",
   "metadata": {
    "slideshow": {
     "slide_type": "slide"
    },
    "tags": []
   },
   "source": [
    "#### Change the behavior of conditionals and loops.\n",
    "\n",
    "<font color='blue'>break</font>, <font color='blue'>continue</font>, or <font color='blue'>pass</font>"
   ]
  },
  {
   "cell_type": "markdown",
   "metadata": {},
   "source": [
    "---"
   ]
  },
  {
   "cell_type": "markdown",
   "metadata": {
    "tags": []
   },
   "source": [
    "#### What does this print?\n",
    "\n",
    "```python\n",
    "x = 1\n",
    "while x < 10:\n",
    "    if x >= 5:\n",
    "        break  # break ends loop\n",
    "    print(x)\n",
    "    x *= 2\n",
    "```"
   ]
  },
  {
   "cell_type": "markdown",
   "metadata": {},
   "source": [
    "---"
   ]
  },
  {
   "cell_type": "markdown",
   "metadata": {
    "tags": []
   },
   "source": [
    "#### What does this print?\n",
    "\n",
    "```python\n",
    "x = 1\n",
    "while x < 10:\n",
    "    if x >= 5:\n",
    "        continue  # hmmm?  \n",
    "    x *= 2\n",
    "    print(x)\n",
    "```"
   ]
  },
  {
   "cell_type": "markdown",
   "metadata": {},
   "source": [
    "---"
   ]
  },
  {
   "cell_type": "markdown",
   "metadata": {
    "tags": []
   },
   "source": [
    "#### What does this print?\n",
    "\n",
    "```python\n",
    "x = 1\n",
    "while x < 10:\n",
    "    if x >= 5:\n",
    "        pass  # does nothing\n",
    "    print(x, end = \",\")\n",
    "    x *= 2\n",
    "```"
   ]
  },
  {
   "cell_type": "markdown",
   "metadata": {},
   "source": [
    "---"
   ]
  },
  {
   "cell_type": "markdown",
   "metadata": {
    "slideshow": {
     "slide_type": "slide"
    },
    "tags": []
   },
   "source": [
    "## For loop\n",
    "A for loop can be used to simplify __iterations__ over <font color='blue'>sequences</font>"
   ]
  },
  {
   "cell_type": "markdown",
   "metadata": {
    "slideshow": {
     "slide_type": "fragment"
    },
    "tags": []
   },
   "source": [
    "```bash\n",
    "for variable in sequence:                          # Header\n",
    "    Python code that iterates over sequence.       # Body is indented\n",
    "    Proper indentation is critical                 #\n",
    "```\n",
    "\n",
    "__variable__: iteration variable or loop index\n",
    "\n",
    "__sequence__: array of values"
   ]
  },
  {
   "cell_type": "code",
   "execution_count": null,
   "metadata": {
    "slideshow": {
     "slide_type": "slide"
    },
    "tags": []
   },
   "outputs": [],
   "source": [
    "# Iterate over a string\n",
    "\n",
    "string = 'Print me'\n",
    "for character in string:\n",
    "    print(character, end=',')"
   ]
  },
  {
   "cell_type": "markdown",
   "metadata": {
    "tags": []
   },
   "source": [
    "#### range()"
   ]
  },
  {
   "cell_type": "code",
   "execution_count": null,
   "metadata": {
    "tags": []
   },
   "outputs": [],
   "source": [
    "#help(range)"
   ]
  },
  {
   "cell_type": "code",
   "execution_count": null,
   "metadata": {
    "slideshow": {
     "slide_type": "slide"
    },
    "tags": []
   },
   "outputs": [],
   "source": [
    "# Iterate over a range object (which is a sequence type)\n",
    "\n",
    "total = 0\n",
    "for i in range(0, 6):\n",
    "    print('i=',i)\n",
    "    total = i + 1  # total is an accumulator\n",
    "\n",
    "print(total)"
   ]
  },
  {
   "cell_type": "code",
   "execution_count": null,
   "metadata": {},
   "outputs": [],
   "source": [
    "answer = 0\n",
    "n = 100\n",
    "for i in range(1, n+1):\n",
    "    answer += i\n",
    "print(answer)\n"
   ]
  },
  {
   "cell_type": "code",
   "execution_count": null,
   "metadata": {
    "slideshow": {
     "slide_type": "fragment"
    },
    "tags": []
   },
   "outputs": [],
   "source": [
    "total = 0\n",
    "\n",
    "for i in range(1, 11):\n",
    "    print(i, total)\n",
    "    if i == 3:\n",
    "        break           # Change different keywords - continue, break, or pass - to learn their behaviors\n",
    "    total += 1\n",
    "\n",
    "print('Total is ',total)"
   ]
  },
  {
   "cell_type": "markdown",
   "metadata": {
    "slideshow": {
     "slide_type": "fragment"
    },
    "tags": []
   },
   "source": [
    "One can use multiple nested for loops:"
   ]
  },
  {
   "cell_type": "markdown",
   "metadata": {
    "slideshow": {
     "slide_type": "fragment"
    },
    "tags": []
   },
   "source": [
    "```bash\n",
    "for var1 in seq1:\n",
    "    for var2 in seq2:    \n",
    "          # do something\n",
    "```"
   ]
  },
  {
   "cell_type": "markdown",
   "metadata": {},
   "source": [
    "---\n"
   ]
  },
  {
   "cell_type": "markdown",
   "metadata": {
    "tags": []
   },
   "source": [
    "## Algorithms"
   ]
  },
  {
   "cell_type": "markdown",
   "metadata": {
    "slideshow": {
     "slide_type": "slide"
    },
    "tags": []
   },
   "source": [
    "#### <font color='blue'>while-else (optional)</font>\n",
    "Similar to if-else:"
   ]
  },
  {
   "cell_type": "code",
   "execution_count": null,
   "metadata": {
    "slideshow": {
     "slide_type": "fragment"
    },
    "tags": []
   },
   "outputs": [],
   "source": [
    "import random\n",
    "count = 0\n",
    "while count < 3:       # Execute while True\n",
    "    num = random.randint(1, 6)\n",
    "    print(num)\n",
    "    if num % 2 == 0:\n",
    "        print(\"You lose!\")\n",
    "        break          # If the loop exits as the result of a break, the else will not be executed.\n",
    "    count += 1\n",
    "else:                  # the else block will execute anytime the loop condition is evaluated to False. \n",
    "    print(\"You win!\")"
   ]
  }
 ],
 "metadata": {
  "anaconda-cloud": {},
  "kernelspec": {
   "display_name": "Python 3 (ipykernel)",
   "language": "python",
   "name": "python3"
  },
  "language_info": {
   "codemirror_mode": {
    "name": "ipython",
    "version": 3
   },
   "file_extension": ".py",
   "mimetype": "text/x-python",
   "name": "python",
   "nbconvert_exporter": "python",
   "pygments_lexer": "ipython3",
   "version": "3.9.12"
  }
 },
 "nbformat": 4,
 "nbformat_minor": 4
}
