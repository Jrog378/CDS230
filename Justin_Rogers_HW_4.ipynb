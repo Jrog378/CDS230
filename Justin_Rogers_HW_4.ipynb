{
 "cells": [
  {
   "cell_type": "markdown",
   "source": [
    "# Homework 4"
   ],
   "metadata": {
    "collapsed": false
   }
  },
  {
   "cell_type": "markdown",
   "source": [
    "- Student name: Justin Rogers\n",
    "- Email: jroger9@gmu.edu\n",
    "- G-number: G01305989"
   ],
   "metadata": {
    "collapsed": false
   }
  },
  {
   "cell_type": "markdown",
   "source": [
    "## Question 1"
   ],
   "metadata": {
    "collapsed": false
   }
  },
  {
   "cell_type": "code",
   "execution_count": 6,
   "outputs": [
    {
     "name": "stdout",
     "output_type": "stream",
     "text": [
      " ********************\n",
      "  *******************\n",
      "   ******************\n",
      "    *****************\n",
      "     ****************\n",
      "      ***************\n",
      "       **************\n",
      "        *************\n",
      "         ************\n",
      "          ***********\n",
      "           **********\n",
      "            *********\n",
      "             ********\n",
      "              *******\n",
      "               ******\n",
      "                *****\n",
      "                 ****\n",
      "                  ***\n",
      "                   **\n",
      "                    *\n"
     ]
    }
   ],
   "source": [
    "num_of_character = 20\n",
    "character_to_print = \"*\"\n",
    "for x in range(num_of_character):\n",
    "    print(' ' * x, character_to_print * (num_of_character - x))"
   ],
   "metadata": {
    "collapsed": false,
    "ExecuteTime": {
     "end_time": "2024-09-22T19:09:06.309866Z",
     "start_time": "2024-09-22T19:09:06.304100Z"
    }
   }
  },
  {
   "cell_type": "markdown",
   "source": [
    "## Question 2 & 3"
   ],
   "metadata": {
    "collapsed": false
   }
  },
  {
   "cell_type": "code",
   "execution_count": 21,
   "outputs": [
    {
     "name": "stdout",
     "output_type": "stream",
     "text": [
      "77.0\n",
      "77.2\n",
      "77.02\n",
      "76.22\n",
      "76.04\n",
      "76.45\n",
      "76.99\n",
      "75.89\n",
      "75.68\n",
      "75.05\n",
      "76.36\n",
      "76.29\n",
      "76.2\n",
      "76.12\n",
      "76.11\n",
      "[-4.0, -11.8, -10.98, -1.78, -6.96, -15.55, -13.01, 4.89, 8.68, 5.05, 7.36, 7.29, 7.2, 7.12, 6.11]\n",
      "8.57604120014979\n",
      "With a standard deviation of roughly 8.5 degrees we did very poorly because as we have seen in recent months, 78 degrees is very different weather than 70 degrees. Modern weather applications are much more accurate\n"
     ]
    }
   ],
   "source": [
    "from numpy import average, array\n",
    "import numpy\n",
    "\n",
    "temps = [80, 87, 86, 92, 78, 78, 83, 81, 68, 85, 93, 94, 75, 79, 85, 78, 72, 71, 88, 78, 82, 62]\n",
    "\n",
    "for x in range(15):\n",
    "    new = average(temps[-10:])\n",
    "    temps.append(new)\n",
    "    print(round(new, 2))\n",
    "\n",
    "real = [81, 89, 88, 78, 83, 92, 90, 71, 67, 70, 69, 69, 69, 69, 70]\n",
    "\n",
    "diff = numpy.round(array(temps[-15:]) - array(real), 2)\n",
    "print(list(diff))\n",
    "print(numpy.std(diff))\n",
    "print(\n",
    "    \"With a standard deviation of roughly 8.5 degrees we did very poorly because as we have seen in recent months, 78 degrees is very different weather than 70 degrees. Modern weather applications are much more accurate as they use scientific information and not just predictive algorithms of past data\")"
   ],
   "metadata": {
    "collapsed": false,
    "ExecuteTime": {
     "end_time": "2024-09-22T19:32:06.987164Z",
     "start_time": "2024-09-22T19:32:06.976024Z"
    }
   }
  },
  {
   "cell_type": "markdown",
   "source": [
    "## Question 4"
   ],
   "metadata": {
    "collapsed": false
   }
  },
  {
   "cell_type": "code",
   "execution_count": 31,
   "outputs": [
    {
     "name": "stdout",
     "output_type": "stream",
     "text": [
      "59.08\n"
     ]
    }
   ],
   "source": [
    "import math\n",
    "\n",
    "r = 6371\n",
    "loc_1 = [38.778981, -77.083358]\n",
    "loc_2 = [38.288876, -77.345637]\n",
    "root1 = math.sin(math.radians((loc_2[0] - loc_1[0]) / 2)) ** 2\n",
    "root2 = math.cos(math.radians(loc_2[0])) * math.cos(math.radians(loc_1[0]))\n",
    "root3 = math.sin(math.radians((loc_2[1] - loc_1[1]) / 2)) ** 2\n",
    "d = 2 * r * math.asin(math.sqrt(root1 + root2 * root3))\n",
    "print(round(d, 2))"
   ],
   "metadata": {
    "collapsed": false,
    "ExecuteTime": {
     "end_time": "2024-09-22T23:20:44.134782Z",
     "start_time": "2024-09-22T23:20:44.106678Z"
    }
   }
  },
  {
   "cell_type": "markdown",
   "source": [
    "## Question 5"
   ],
   "metadata": {
    "collapsed": false
   }
  },
  {
   "cell_type": "code",
   "execution_count": 45,
   "outputs": [
    {
     "name": "stdout",
     "output_type": "stream",
     "text": [
      "[38.84749363319875, -77.26750281892856]\n"
     ]
    }
   ],
   "source": [
    "trajectory = []\n",
    "trajectory.append((38.85331685786827, -77.29046729646763))\n",
    "trajectory.append((38.85866393991506, -77.27192786775669))\n",
    "trajectory.append((38.857594555667404, -77.26094153963169))\n",
    "trajectory.append((38.84957366123777, -77.25270179353794))\n",
    "trajectory.append((38.84422589578141, -77.2396555288895))\n",
    "trajectory.append((38.838877728341515, -77.24995521150669))\n",
    "trajectory.append((38.838877728341515, -77.26231483064731))\n",
    "trajectory.append((38.838877728341515, -77.28978065095981))\n",
    "trajectory.append((38.84743460329428, -77.28978065095981))\n",
    "c1 = 0\n",
    "c2 = 0\n",
    "for x, y in trajectory:\n",
    "    c1 += x\n",
    "    c2 += y\n",
    "cm = [c1*1/len(trajectory), c2*1/len(trajectory)]\n",
    "print(cm)\n"
   ],
   "metadata": {
    "collapsed": false,
    "ExecuteTime": {
     "end_time": "2024-09-22T23:26:47.248936Z",
     "start_time": "2024-09-22T23:26:47.246855Z"
    }
   }
  }
 ],
 "metadata": {
  "kernelspec": {
   "display_name": "Python 3",
   "language": "python",
   "name": "python3"
  },
  "language_info": {
   "codemirror_mode": {
    "name": "ipython",
    "version": 2
   },
   "file_extension": ".py",
   "mimetype": "text/x-python",
   "name": "python",
   "nbconvert_exporter": "python",
   "pygments_lexer": "ipython2",
   "version": "2.7.6"
  }
 },
 "nbformat": 4,
 "nbformat_minor": 0
}
