{
 "cells": [
  {
   "cell_type": "markdown",
   "source": [
    "# Homework 2"
   ],
   "metadata": {
    "collapsed": false
   }
  },
  {
   "cell_type": "markdown",
   "source": [
    "- Student name: Justin Rogers\n",
    "- Email: jroger9@gmu.edu\n",
    "- G-number: G01305989"
   ],
   "metadata": {
    "collapsed": false
   }
  },
  {
   "cell_type": "markdown",
   "source": [
    "## Question 1\n",
    "### Question 1.a\n",
    "False, Python is an Object-Oriented programming language\n",
    "### Question 1.b\n",
    "True"
   ],
   "metadata": {
    "collapsed": false
   }
  },
  {
   "cell_type": "markdown",
   "source": [
    "## Question 2"
   ],
   "metadata": {
    "collapsed": false
   }
  },
  {
   "cell_type": "markdown",
   "source": [
    "### Question 2.a"
   ],
   "metadata": {
    "collapsed": false
   }
  },
  {
   "cell_type": "code",
   "execution_count": 82,
   "outputs": [
    {
     "data": {
      "text/plain": "0.368"
     },
     "execution_count": 82,
     "metadata": {},
     "output_type": "execute_result"
    }
   ],
   "source": [
    "import math\n",
    "\n",
    "(9 + 0.2) / (10 + 15)"
   ],
   "metadata": {
    "collapsed": false,
    "ExecuteTime": {
     "end_time": "2024-09-16T14:04:09.842056Z",
     "start_time": "2024-09-16T14:04:09.771336Z"
    }
   }
  },
  {
   "cell_type": "markdown",
   "source": [],
   "metadata": {
    "collapsed": false
   }
  },
  {
   "cell_type": "markdown",
   "source": [
    "### Question 2.b"
   ],
   "metadata": {
    "collapsed": false
   }
  },
  {
   "cell_type": "code",
   "execution_count": 83,
   "outputs": [
    {
     "data": {
      "text/plain": "-0.25256132664109304"
     },
     "execution_count": 83,
     "metadata": {},
     "output_type": "execute_result"
    }
   ],
   "source": [
    "math.pow(2.2,-1) - math.pow(0.5,0.5)"
   ],
   "metadata": {
    "collapsed": false,
    "ExecuteTime": {
     "end_time": "2024-09-16T14:04:09.843003Z",
     "start_time": "2024-09-16T14:04:09.775546Z"
    }
   }
  },
  {
   "cell_type": "markdown",
   "source": [
    "### Question 2.c"
   ],
   "metadata": {
    "collapsed": false
   }
  },
  {
   "cell_type": "code",
   "execution_count": 84,
   "outputs": [
    {
     "data": {
      "text/plain": "(8.02730178221882+0j)"
     },
     "execution_count": 84,
     "metadata": {},
     "output_type": "execute_result"
    }
   ],
   "source": [
    "import cmath\n",
    "cmath.sqrt(81) - (5 / abs(-3 * cmath.sqrt(math.pow(1.1, 4) - 4.4)))"
   ],
   "metadata": {
    "collapsed": false,
    "ExecuteTime": {
     "end_time": "2024-09-16T14:04:09.904639Z",
     "start_time": "2024-09-16T14:04:09.780059Z"
    }
   }
  },
  {
   "cell_type": "markdown",
   "source": [
    "### Question 2.d"
   ],
   "metadata": {
    "collapsed": false
   }
  },
  {
   "cell_type": "code",
   "execution_count": 85,
   "outputs": [
    {
     "data": {
      "text/plain": "0.6366197723675814"
     },
     "execution_count": 85,
     "metadata": {},
     "output_type": "execute_result"
    }
   ],
   "source": [
    "2 / math.pi * math.log(math.e)"
   ],
   "metadata": {
    "collapsed": false,
    "ExecuteTime": {
     "end_time": "2024-09-16T14:04:09.905314Z",
     "start_time": "2024-09-16T14:04:09.784412Z"
    }
   }
  },
  {
   "cell_type": "markdown",
   "source": [
    "## Question 3"
   ],
   "metadata": {
    "collapsed": false
   }
  },
  {
   "cell_type": "code",
   "execution_count": 86,
   "outputs": [
    {
     "name": "stdout",
     "output_type": "stream",
     "text": [
      "Final postition is -1.75 meters\n"
     ]
    }
   ],
   "source": [
    "xi = -10\n",
    "v = 1.5\n",
    "t = 5.5\n",
    "\n",
    "xf = xi + v * t\n",
    "print(\"Final postition is {} meters\".format(xf))"
   ],
   "metadata": {
    "collapsed": false,
    "ExecuteTime": {
     "end_time": "2024-09-16T14:04:09.905438Z",
     "start_time": "2024-09-16T14:04:09.788540Z"
    }
   }
  },
  {
   "cell_type": "markdown",
   "source": [
    "## Question 4"
   ],
   "metadata": {
    "collapsed": false
   }
  },
  {
   "cell_type": "markdown",
   "source": [
    "### Question 4.a"
   ],
   "metadata": {
    "collapsed": false
   }
  },
  {
   "cell_type": "code",
   "execution_count": 87,
   "outputs": [
    {
     "data": {
      "text/plain": "-0.2679491924311228"
     },
     "execution_count": 87,
     "metadata": {},
     "output_type": "execute_result"
    }
   ],
   "source": [
    "(math.cos(math.pi) + math.sin(math.radians(60))) / 0.5"
   ],
   "metadata": {
    "collapsed": false,
    "ExecuteTime": {
     "end_time": "2024-09-16T14:04:09.905925Z",
     "start_time": "2024-09-16T14:04:09.795226Z"
    }
   }
  },
  {
   "cell_type": "markdown",
   "source": [
    "### Question 4.b"
   ],
   "metadata": {
    "collapsed": false
   }
  },
  {
   "cell_type": "code",
   "execution_count": 88,
   "outputs": [
    {
     "data": {
      "text/plain": "0.13597691875146167"
     },
     "execution_count": 88,
     "metadata": {},
     "output_type": "execute_result"
    }
   ],
   "source": [
    "((math.atan(math.radians(75)))/(math.cos(math.radians(60)) + math.asin(math.radians(10)))) * math.pow(10, -1)"
   ],
   "metadata": {
    "collapsed": false,
    "ExecuteTime": {
     "end_time": "2024-09-16T14:04:09.906711Z",
     "start_time": "2024-09-16T14:04:09.800916Z"
    }
   }
  },
  {
   "cell_type": "markdown",
   "source": [
    "### Question 4.c"
   ],
   "metadata": {
    "collapsed": false
   }
  },
  {
   "cell_type": "code",
   "execution_count": 89,
   "outputs": [
    {
     "data": {
      "text/plain": "0.05272169218798366"
     },
     "execution_count": 89,
     "metadata": {},
     "output_type": "execute_result"
    }
   ],
   "source": [
    "math.pow((math.pi * math.log(4)), -2)"
   ],
   "metadata": {
    "collapsed": false,
    "ExecuteTime": {
     "end_time": "2024-09-16T14:04:09.908206Z",
     "start_time": "2024-09-16T14:04:09.806109Z"
    }
   }
  },
  {
   "cell_type": "markdown",
   "source": [
    "### Question 4.d"
   ],
   "metadata": {
    "collapsed": false
   }
  },
  {
   "cell_type": "code",
   "execution_count": 90,
   "outputs": [
    {
     "data": {
      "text/plain": "1.8462327153074891"
     },
     "execution_count": 90,
     "metadata": {},
     "output_type": "execute_result"
    }
   ],
   "source": [
    "math.pow(math.e, math.log(3, 6))"
   ],
   "metadata": {
    "collapsed": false,
    "ExecuteTime": {
     "end_time": "2024-09-16T14:04:09.918439Z",
     "start_time": "2024-09-16T14:04:09.810864Z"
    }
   }
  },
  {
   "cell_type": "markdown",
   "source": [
    "## Question 5"
   ],
   "metadata": {
    "collapsed": false
   }
  },
  {
   "cell_type": "markdown",
   "source": [
    "### Question 5.a"
   ],
   "metadata": {
    "collapsed": false
   }
  },
  {
   "cell_type": "code",
   "execution_count": 97,
   "outputs": [
    {
     "name": "stdout",
     "output_type": "stream",
     "text": [
      "The position at 1.9 seconds is 75.4 meters from the ground\n"
     ]
    }
   ],
   "source": [
    "g = -9.8\n",
    "t = 1.9\n",
    "y1 = 93.11\n",
    "y2 = y1 + g * t**2 / 2\n",
    "print(\"The position at 1.9 seconds is {0:.1f} meters from the ground\".format(y2))"
   ],
   "metadata": {
    "collapsed": false,
    "ExecuteTime": {
     "end_time": "2024-09-16T14:07:02.581718Z",
     "start_time": "2024-09-16T14:07:02.565504Z"
    }
   }
  },
  {
   "cell_type": "markdown",
   "source": [
    "### Question 5.b"
   ],
   "metadata": {
    "collapsed": false
   }
  },
  {
   "cell_type": "code",
   "execution_count": 96,
   "outputs": [
    {
     "name": "stdout",
     "output_type": "stream",
     "text": [
      "It takes approximately -4.36 or 4.36 seconds to reach the floor\n",
      "Our Conclusion would just be 4.36 since we cannot use negative seconds.\n"
     ]
    }
   ],
   "source": [
    "g = -9.8\n",
    "t = 0\n",
    "y1 = 93.11\n",
    "y2 = 0\n",
    "vy = 0\n",
    "q = vy**2 - 2 * g * (y1 - y2)\n",
    "\n",
    "t1 = (-vy + math.sqrt(q)) /g\n",
    "t2 = (-vy - math.sqrt(q)) /g\n",
    "\n",
    "print(\"It takes approximately {:.2f} or {:.2f} seconds to reach the floor.\".format(t1, t2))\n",
    "\n",
    "print(\"Our Conclusion would just be {:.2f} since we cannot use negative seconds.\".format(t2))"
   ],
   "metadata": {
    "collapsed": false,
    "ExecuteTime": {
     "end_time": "2024-09-16T14:06:39.543573Z",
     "start_time": "2024-09-16T14:06:39.535663Z"
    }
   }
  },
  {
   "cell_type": "code",
   "execution_count": null,
   "outputs": [],
   "source": [],
   "metadata": {
    "collapsed": false
   }
  }
 ],
 "metadata": {
  "kernelspec": {
   "display_name": "Python 3",
   "language": "python",
   "name": "python3"
  },
  "language_info": {
   "codemirror_mode": {
    "name": "ipython",
    "version": 2
   },
   "file_extension": ".py",
   "mimetype": "text/x-python",
   "name": "python",
   "nbconvert_exporter": "python",
   "pygments_lexer": "ipython2",
   "version": "2.7.6"
  }
 },
 "nbformat": 4,
 "nbformat_minor": 0
}
