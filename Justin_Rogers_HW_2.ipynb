{
 "cells": [
  {
   "cell_type": "markdown",
   "source": [
    "# Homework 2"
   ],
   "metadata": {
    "collapsed": false
   }
  },
  {
   "cell_type": "markdown",
   "source": [
    "- Student name: Justin Rogers\n",
    "- Email: jroger9@gmu.edu\n",
    "- G-number: G01305989"
   ],
   "metadata": {
    "collapsed": false
   }
  },
  {
   "cell_type": "markdown",
   "source": [
    "## Question 1\n",
    "### Question 1.a\n",
    "False, Python is an Object-Oriented programming language\n",
    "### Question 1.b\n",
    "True"
   ],
   "metadata": {
    "collapsed": false
   }
  },
  {
   "cell_type": "markdown",
   "source": [
    "## Question 2"
   ],
   "metadata": {
    "collapsed": false
   }
  },
  {
   "cell_type": "markdown",
   "source": [
    "### Question 2.a"
   ],
   "metadata": {
    "collapsed": false
   }
  },
  {
   "cell_type": "code",
   "execution_count": 98,
   "outputs": [
    {
     "data": {
      "text/plain": "0.368"
     },
     "execution_count": 98,
     "metadata": {},
     "output_type": "execute_result"
    }
   ],
   "source": [
    "import math\n",
    "\n",
    "(9 + 0.2) / (10 + 15)"
   ],
   "metadata": {
    "collapsed": false,
    "ExecuteTime": {
     "end_time": "2024-09-16T14:09:50.851514Z",
     "start_time": "2024-09-16T14:09:50.773254Z"
    }
   }
  },
  {
   "cell_type": "markdown",
   "source": [],
   "metadata": {
    "collapsed": false
   }
  },
  {
   "cell_type": "markdown",
   "source": [
    "### Question 2.b"
   ],
   "metadata": {
    "collapsed": false
   }
  },
  {
   "cell_type": "code",
   "execution_count": 99,
   "outputs": [
    {
     "data": {
      "text/plain": "-0.25256132664109304"
     },
     "execution_count": 99,
     "metadata": {},
     "output_type": "execute_result"
    }
   ],
   "source": [
    "math.pow(2.2,-1) - math.pow(0.5,0.5)"
   ],
   "metadata": {
    "collapsed": false,
    "ExecuteTime": {
     "end_time": "2024-09-16T14:09:50.855359Z",
     "start_time": "2024-09-16T14:09:50.777634Z"
    }
   }
  },
  {
   "cell_type": "markdown",
   "source": [
    "### Question 2.c"
   ],
   "metadata": {
    "collapsed": false
   }
  },
  {
   "cell_type": "code",
   "execution_count": 100,
   "outputs": [
    {
     "data": {
      "text/plain": "(8.02730178221882+0j)"
     },
     "execution_count": 100,
     "metadata": {},
     "output_type": "execute_result"
    }
   ],
   "source": [
    "import cmath\n",
    "cmath.sqrt(81) - (5 / abs(-3 * cmath.sqrt(math.pow(1.1, 4) - 4.4)))"
   ],
   "metadata": {
    "collapsed": false,
    "ExecuteTime": {
     "end_time": "2024-09-16T14:09:50.856259Z",
     "start_time": "2024-09-16T14:09:50.786495Z"
    }
   }
  },
  {
   "cell_type": "markdown",
   "source": [
    "### Question 2.d"
   ],
   "metadata": {
    "collapsed": false
   }
  },
  {
   "cell_type": "code",
   "execution_count": 101,
   "outputs": [
    {
     "data": {
      "text/plain": "0.6366197723675814"
     },
     "execution_count": 101,
     "metadata": {},
     "output_type": "execute_result"
    }
   ],
   "source": [
    "2 / math.pi * math.log(math.e)"
   ],
   "metadata": {
    "collapsed": false,
    "ExecuteTime": {
     "end_time": "2024-09-16T14:09:50.856929Z",
     "start_time": "2024-09-16T14:09:50.793760Z"
    }
   }
  },
  {
   "cell_type": "markdown",
   "source": [
    "## Question 3"
   ],
   "metadata": {
    "collapsed": false
   }
  },
  {
   "cell_type": "code",
   "execution_count": 102,
   "outputs": [
    {
     "name": "stdout",
     "output_type": "stream",
     "text": [
      "Final postition is -1.75 meters\n"
     ]
    }
   ],
   "source": [
    "xi = -10\n",
    "v = 1.5\n",
    "t = 5.5\n",
    "\n",
    "xf = xi + v * t\n",
    "print(\"Final postition is {} meters\".format(xf))"
   ],
   "metadata": {
    "collapsed": false,
    "ExecuteTime": {
     "end_time": "2024-09-16T14:09:50.857094Z",
     "start_time": "2024-09-16T14:09:50.799775Z"
    }
   }
  },
  {
   "cell_type": "markdown",
   "source": [
    "## Question 4"
   ],
   "metadata": {
    "collapsed": false
   }
  },
  {
   "cell_type": "markdown",
   "source": [
    "### Question 4.a"
   ],
   "metadata": {
    "collapsed": false
   }
  },
  {
   "cell_type": "code",
   "execution_count": 103,
   "outputs": [
    {
     "data": {
      "text/plain": "-0.2679491924311228"
     },
     "execution_count": 103,
     "metadata": {},
     "output_type": "execute_result"
    }
   ],
   "source": [
    "(math.cos(math.pi) + math.sin(math.radians(60))) / 0.5"
   ],
   "metadata": {
    "collapsed": false,
    "ExecuteTime": {
     "end_time": "2024-09-16T14:09:50.857937Z",
     "start_time": "2024-09-16T14:09:50.805075Z"
    }
   }
  },
  {
   "cell_type": "markdown",
   "source": [
    "### Question 4.b"
   ],
   "metadata": {
    "collapsed": false
   }
  },
  {
   "cell_type": "code",
   "execution_count": 104,
   "outputs": [
    {
     "data": {
      "text/plain": "0.13597691875146167"
     },
     "execution_count": 104,
     "metadata": {},
     "output_type": "execute_result"
    }
   ],
   "source": [
    "((math.atan(math.radians(75)))/(math.cos(math.radians(60)) + math.asin(math.radians(10)))) * math.pow(10, -1)"
   ],
   "metadata": {
    "collapsed": false,
    "ExecuteTime": {
     "end_time": "2024-09-16T14:09:50.858045Z",
     "start_time": "2024-09-16T14:09:50.812323Z"
    }
   }
  },
  {
   "cell_type": "markdown",
   "source": [
    "### Question 4.c"
   ],
   "metadata": {
    "collapsed": false
   }
  },
  {
   "cell_type": "code",
   "execution_count": 105,
   "outputs": [
    {
     "data": {
      "text/plain": "0.05272169218798366"
     },
     "execution_count": 105,
     "metadata": {},
     "output_type": "execute_result"
    }
   ],
   "source": [
    "math.pow((math.pi * math.log(4)), -2)"
   ],
   "metadata": {
    "collapsed": false,
    "ExecuteTime": {
     "end_time": "2024-09-16T14:09:50.858519Z",
     "start_time": "2024-09-16T14:09:50.819467Z"
    }
   }
  },
  {
   "cell_type": "markdown",
   "source": [
    "### Question 4.d"
   ],
   "metadata": {
    "collapsed": false
   }
  },
  {
   "cell_type": "code",
   "execution_count": 3,
   "outputs": [
    {
     "data": {
      "text/plain": "0.4570158713547788"
     },
     "execution_count": 3,
     "metadata": {},
     "output_type": "execute_result"
    }
   ],
   "source": [
    "math.pow(math.e, math.log(3, 6))"
   ],
   "metadata": {
    "collapsed": false,
    "ExecuteTime": {
     "end_time": "2024-09-18T14:27:19.328917Z",
     "start_time": "2024-09-18T14:27:19.315448Z"
    }
   }
  },
  {
   "cell_type": "markdown",
   "source": [
    "## Question 5"
   ],
   "metadata": {
    "collapsed": false
   }
  },
  {
   "cell_type": "markdown",
   "source": [
    "### Question 5.a"
   ],
   "metadata": {
    "collapsed": false
   }
  },
  {
   "cell_type": "code",
   "execution_count": 107,
   "outputs": [
    {
     "name": "stdout",
     "output_type": "stream",
     "text": [
      "The position at 1.9 seconds is 75.4 meters from the ground\n"
     ]
    }
   ],
   "source": [
    "g = -9.8\n",
    "t = 1.9\n",
    "y1 = 93.11\n",
    "y2 = y1 + g * t**2 / 2\n",
    "print(\"The position at 1.9 seconds is {0:.1f} meters from the ground\".format(y2))"
   ],
   "metadata": {
    "collapsed": false,
    "ExecuteTime": {
     "end_time": "2024-09-16T14:09:50.859014Z",
     "start_time": "2024-09-16T14:09:50.829867Z"
    }
   }
  },
  {
   "cell_type": "markdown",
   "source": [
    "### Question 5.b"
   ],
   "metadata": {
    "collapsed": false
   }
  },
  {
   "cell_type": "code",
   "execution_count": 108,
   "outputs": [
    {
     "name": "stdout",
     "output_type": "stream",
     "text": [
      "It takes approximately -4.36 or 4.36 seconds to reach the floor.\n",
      "Our Conclusion would just be 4.36 since we cannot use negative seconds.\n"
     ]
    }
   ],
   "source": [
    "g = -9.8\n",
    "t = 0\n",
    "y1 = 93.11\n",
    "y2 = 0\n",
    "vy = 0\n",
    "q = vy**2 - 2 * g * (y1 - y2)\n",
    "\n",
    "t1 = (-vy + math.sqrt(q)) /g\n",
    "t2 = (-vy - math.sqrt(q)) /g\n",
    "\n",
    "print(\"It takes approximately {:.2f} or {:.2f} seconds to reach the floor.\".format(t1, t2))\n",
    "\n",
    "print(\"Our Conclusion would just be {:.2f} since we cannot use negative seconds.\".format(t2))"
   ],
   "metadata": {
    "collapsed": false,
    "ExecuteTime": {
     "end_time": "2024-09-16T14:09:50.859091Z",
     "start_time": "2024-09-16T14:09:50.833358Z"
    }
   }
  },
  {
   "cell_type": "code",
   "execution_count": 108,
   "outputs": [],
   "source": [],
   "metadata": {
    "collapsed": false,
    "ExecuteTime": {
     "end_time": "2024-09-16T14:09:50.859135Z",
     "start_time": "2024-09-16T14:09:50.835333Z"
    }
   }
  }
 ],
 "metadata": {
  "kernelspec": {
   "display_name": "Python 3",
   "language": "python",
   "name": "python3"
  },
  "language_info": {
   "codemirror_mode": {
    "name": "ipython",
    "version": 2
   },
   "file_extension": ".py",
   "mimetype": "text/x-python",
   "name": "python",
   "nbconvert_exporter": "python",
   "pygments_lexer": "ipython2",
   "version": "2.7.6"
  }
 },
 "nbformat": 4,
 "nbformat_minor": 0
}
