{
 "cells": [
  {
   "cell_type": "markdown",
   "source": [
    "# Homework 3"
   ],
   "metadata": {
    "collapsed": false
   }
  },
  {
   "cell_type": "markdown",
   "source": [
    "- Student name: Justin Rogers\n",
    "- Email: jroger9@gmu.edu\n",
    "- G-number: G01305989"
   ],
   "metadata": {
    "collapsed": false
   }
  },
  {
   "cell_type": "markdown",
   "source": [
    "## Question 1"
   ],
   "metadata": {
    "collapsed": false
   }
  },
  {
   "cell_type": "code",
   "execution_count": 4,
   "outputs": [
    {
     "name": "stdout",
     "output_type": "stream",
     "text": [
      "Point 2 is farther\n"
     ]
    }
   ],
   "source": [
    "from math import sqrt, pow\n",
    "point1_x, point1_y, point2_x, point2_y = 1,2,3,4\n",
    "\n",
    "d1 = sqrt(abs(pow(point1_x,2) + pow(point1_y,2)))\n",
    "d2 = sqrt(abs(pow(point2_x,2) + pow(point2_y,2)))\n",
    "\n",
    "if d1 > d2:\n",
    "    print('Point 1 is farther')\n",
    "elif d2 > d1:\n",
    "    print('Point 2 is farther')\n",
    "else:\n",
    "    print('Both points are equally far from the center')"
   ],
   "metadata": {
    "collapsed": false,
    "ExecuteTime": {
     "end_time": "2024-09-18T14:39:20.891482Z",
     "start_time": "2024-09-18T14:39:20.876539Z"
    }
   }
  },
  {
   "cell_type": "markdown",
   "source": [
    "## Question 2"
   ],
   "metadata": {
    "collapsed": false
   }
  },
  {
   "cell_type": "code",
   "execution_count": 35,
   "outputs": [
    {
     "name": "stdout",
     "output_type": "stream",
     "text": [
      "['1', '0', '0', '0', '0', '0', '0', '0', '0', '0', '0', '0', '0']\n",
      "1,000,000,000,000\n"
     ]
    }
   ],
   "source": [
    "num = '1000000000000'\n",
    "numbers = list(num)\n",
    "for x in range(len(numbers), 0, -1):\n",
    "    if x % 3 == 0:\n",
    "        numbers.insert(x-2, ',')\n",
    "number = ''\n",
    "for x in numbers:\n",
    "    number += x\n",
    "print(number)"
   ],
   "metadata": {
    "collapsed": false,
    "ExecuteTime": {
     "end_time": "2024-09-18T14:53:12.687085Z",
     "start_time": "2024-09-18T14:53:12.682046Z"
    }
   }
  },
  {
   "cell_type": "markdown",
   "source": [
    "## Question 3"
   ],
   "metadata": {
    "collapsed": false
   }
  },
  {
   "cell_type": "code",
   "execution_count": 52,
   "outputs": [
    {
     "name": "stdout",
     "output_type": "stream",
     "text": [
      "8\n"
     ]
    }
   ],
   "source": [
    "gene=\"CTGTTCTTGCTACAGGCAATCAACGTTGATGTTGTGGTAGACGATTAGGAATCCCCAACGAGTTGGGACGGAGTTTATATATGGGTAGAGCTCCCTCGCATTCCTTTCTAG\"\n",
    "Ts = []\n",
    "count = 0\n",
    "genes = list(gene)\n",
    "for x, y in enumerate(genes):\n",
    "    if y == 'T':\n",
    "        Ts.append(x)\n",
    "for x in Ts:\n",
    "    if x+1 < len(genes):\n",
    "        if genes[x+1] == 'G':\n",
    "            count += 1\n",
    "print(count)"
   ],
   "metadata": {
    "collapsed": false,
    "ExecuteTime": {
     "end_time": "2024-09-18T15:00:35.248070Z",
     "start_time": "2024-09-18T15:00:35.241363Z"
    }
   }
  },
  {
   "cell_type": "markdown",
   "source": [
    "## Question 4"
   ],
   "metadata": {
    "collapsed": false
   }
  },
  {
   "cell_type": "code",
   "execution_count": 54,
   "outputs": [
    {
     "name": "stdout",
     "output_type": "stream",
     "text": [
      "<class 'str'>\n"
     ]
    }
   ],
   "source": [
    "fives = input('Enter Value:')\n",
    "if int(fives) % 5 == 0:\n",
    "    print('Yes, this number is divisible by 5 without remainder')\n",
    "else:\n",
    "    print('No, this number is NOT divisible by 5 without remainder')"
   ],
   "metadata": {
    "collapsed": false,
    "ExecuteTime": {
     "end_time": "2024-09-18T15:10:07.116130Z",
     "start_time": "2024-09-18T15:10:05.771895Z"
    }
   }
  },
  {
   "cell_type": "markdown",
   "source": [
    "## Question 5"
   ],
   "metadata": {
    "collapsed": false
   }
  },
  {
   "cell_type": "code",
   "execution_count": 58,
   "outputs": [
    {
     "name": "stdout",
     "output_type": "stream",
     "text": [
      "0\n"
     ]
    }
   ],
   "source": [
    "num1 = int(input(\"Enter the first integer number: \"))\n",
    "num2 = int(input(\"Enter the second integer number: \"))\n",
    "op = input(\"Enter one of the following operations - + / *: \")\n",
    "if op == '-':\n",
    "    print(num1-num2)\n",
    "elif op == '+':\n",
    "    print(num1+num2)\n",
    "elif op == '/':\n",
    "    print(num1/num2)\n",
    "elif op == '*':\n",
    "    print(num1*num2)\n",
    "else:\n",
    "    print('No Computation')"
   ],
   "metadata": {
    "collapsed": false,
    "ExecuteTime": {
     "end_time": "2024-09-18T15:16:02.727656Z",
     "start_time": "2024-09-18T15:15:59.103662Z"
    }
   }
  },
  {
   "cell_type": "markdown",
   "source": [
    "## Question 6"
   ],
   "metadata": {
    "collapsed": false
   }
  },
  {
   "cell_type": "code",
   "execution_count": 61,
   "outputs": [
    {
     "name": "stdout",
     "output_type": "stream",
     "text": [
      "Yes, two strings have the same number of characters\n"
     ]
    }
   ],
   "source": [
    "x = input('Enter string 1')\n",
    "y = input('Enter string 2')\n",
    "if len(x) == len(y):\n",
    "    print('Yes, two strings have the same number of characters')\n",
    "else:\n",
    "    print('No, two strings do NOT have the same number of characters')"
   ],
   "metadata": {
    "collapsed": false,
    "ExecuteTime": {
     "end_time": "2024-09-18T15:19:11.331378Z",
     "start_time": "2024-09-18T15:19:07.087652Z"
    }
   }
  },
  {
   "cell_type": "markdown",
   "source": [
    "## Question 7"
   ],
   "metadata": {
    "collapsed": false
   }
  },
  {
   "cell_type": "code",
   "execution_count": 62,
   "outputs": [
    {
     "name": "stdout",
     "output_type": "stream",
     "text": [
      "justin\n"
     ]
    }
   ],
   "source": [
    "email = input('Enter Email')\n",
    "print(email.split('@')[0])"
   ],
   "metadata": {
    "collapsed": false,
    "ExecuteTime": {
     "end_time": "2024-09-18T15:23:13.164857Z",
     "start_time": "2024-09-18T15:23:07.404623Z"
    }
   }
  }
 ],
 "metadata": {
  "kernelspec": {
   "display_name": "Python 3",
   "language": "python",
   "name": "python3"
  },
  "language_info": {
   "codemirror_mode": {
    "name": "ipython",
    "version": 2
   },
   "file_extension": ".py",
   "mimetype": "text/x-python",
   "name": "python",
   "nbconvert_exporter": "python",
   "pygments_lexer": "ipython2",
   "version": "2.7.6"
  }
 },
 "nbformat": 4,
 "nbformat_minor": 0
}
